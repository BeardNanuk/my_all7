{
 "cells": [
  {
   "cell_type": "code",
   "execution_count": 1,
   "metadata": {},
   "outputs": [],
   "source": [
    "import obspy\n",
    "import numpy as np\n",
    "import pandas as pd\n",
    "from myFormat.data_format import para_struct\n",
    "from seisflows.tools.graphics import _convert_to_array\n",
    "from scipy.interpolate import interp1d\n",
    "\n",
    "## for ploting\n",
    "import matplotlib.pyplot as plt \n",
    "from seisflows.tools.graphics import plot_section\n",
    "\n",
    "import argparse\n",
    "\n",
    "\n",
    "# for filtering\n",
    "from obspy.signal.filter import bandpass\n",
    "\n",
    "\n",
    "#### for spectrum plotting\n",
    "from scipy import signal\n",
    "#from obspy.signal.util import _npts2nfft\n",
    "#from obspy.signal.invsim import cosine_sac_taper\n",
    "from scipy.fftpack import fft, ifft, fftfreq"
   ]
  },
  {
   "cell_type": "code",
   "execution_count": 2,
   "metadata": {},
   "outputs": [],
   "source": [
    "%matplotlib inline\n",
    "import matplotlib.pyplot as plt\n",
    "from obspy import read, UTCDateTime\n",
    "## for i/o\n",
    "#from obspy import read\n",
    "import scipy.io as sio \n",
    "from obspy.core.stream import Stream\n",
    "import os "
   ]
  },
  {
   "cell_type": "code",
   "execution_count": 5,
   "metadata": {},
   "outputs": [
    {
     "name": "stdout",
     "output_type": "stream",
     "text": [
      "(8400, 2)\n"
     ]
    }
   ],
   "source": [
    "src_fn ='stf_delayed_ricker_allgll_f0_500000'\n",
    "src_np = pd.read_csv(src_fn,header=None, delimiter=r\"\\s+\").values\n",
    "#src_pd_Values=(src_pd.values/0.1).transpose()\n",
    "print(src_np.shape)\n"
   ]
  },
  {
   "cell_type": "code",
   "execution_count": null,
   "metadata": {},
   "outputs": [],
   "source": []
  },
  {
   "cell_type": "code",
   "execution_count": 9,
   "metadata": {},
   "outputs": [
    {
     "data": {
      "text/plain": [
       "array([0., 0., 0., ..., 0., 0., 0.])"
      ]
     },
     "execution_count": 9,
     "metadata": {},
     "output_type": "execute_result"
    }
   ],
   "source": [
    "src_np[:,1]"
   ]
  },
  {
   "cell_type": "code",
   "execution_count": 11,
   "metadata": {},
   "outputs": [
    {
     "data": {
      "text/plain": [
       "[<matplotlib.lines.Line2D at 0x7f7928910550>]"
      ]
     },
     "execution_count": 11,
     "metadata": {},
     "output_type": "execute_result"
    },
    {
     "data": {
      "image/png": "[encoded data removed]",
      "text/plain": [
       "<Figure size 432x288 with 1 Axes>"
      ]
     },
     "metadata": {},
     "output_type": "display_data"
    }
   ],
   "source": [
    "plt.plot(src_np[:,0],src_np[:,1])"
   ]
  },
  {
   "cell_type": "code",
   "execution_count": 29,
   "metadata": {},
   "outputs": [
    {
     "name": "stderr",
     "output_type": "stream",
     "text": [
      "/home/jiazeh/Desktop/my_files/py2project/venv/lib/python2.7/site-packages/ipykernel_launcher.py:15: MatplotlibDeprecationWarning: axes.hold is deprecated.\n",
      "    See the API Changes document (http://matplotlib.org/api/api_changes.html)\n",
      "    for more details.\n",
      "  from ipykernel import kernelapp as app\n"
     ]
    },
    {
     "data": {
      "image/png": "[encoded data removed]",
      "text/plain": [
       "<Figure size 432x288 with 1 Axes>"
      ]
     },
     "metadata": {},
     "output_type": "display_data"
    }
   ],
   "source": [
    "\n",
    "fig = plt.figure()\n",
    "num_rec_plus1=1\n",
    "time_step_star=0\n",
    "time_step_comp=8400\n",
    "act_to_plot=1\n",
    "ax = fig.add_subplot(num_rec_plus1, 1, num_rec_plus1)\n",
    "titlename = ' act %d source used by specfem2d' % (act_to_plot)\n",
    "\n",
    "#ax.plot(t_cut[time_step_star:time_step_comp], src_pd[time_step_star:time_step_comp,1], 'm-',label='U_')\n",
    "ax.plot(src_np[time_step_star:time_step_comp,0]*1e6,src_np[time_step_star:time_step_comp,1], 'm-',label='U_')\n",
    "#plt.xlabel(r'time (\\mus)')\n",
    "#plt.xlabel('alpha > beta')\n",
    "plt.xlabel(r'time ($\\mu s$)')\n",
    "ax.hold(True)\n",
    "ax.set_title(titlename)\n",
    "ax.legend(loc='right')\n",
    "fig.tight_layout() "
   ]
  },
  {
   "cell_type": "code",
   "execution_count": null,
   "metadata": {},
   "outputs": [],
   "source": []
  },
  {
   "cell_type": "code",
   "execution_count": null,
   "metadata": {},
   "outputs": [],
   "source": []
  }
 ],
 "metadata": {
  "kernelspec": {
   "display_name": "Python 2",
   "language": "python",
   "name": "python2"
  },
  "language_info": {
   "codemirror_mode": {
    "name": "ipython",
    "version": 2
   },
   "file_extension": ".py",
   "mimetype": "text/x-python",
   "name": "python",
   "nbconvert_exporter": "python",
   "pygments_lexer": "ipython2",
   "version": "2.7.5"
  }
 },
 "nbformat": 4,
 "nbformat_minor": 2
}
