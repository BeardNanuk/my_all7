{
 "cells": [
  {
   "cell_type": "markdown",
   "metadata": {},
   "source": [
    "# Inverting for the Source\n",
    "\n",
    "The method uses observed data (processed according to FieldDataProcessing.ipynb)\n",
    "and synthetic data (from SPECFEM3D) and applies a simple linear inversion formula:\n",
    "\n",
    "\\begin{equation}\n",
    "S(\\omega)^{*} = \\frac{u^{t}d^{*}}{u^{t}u^{*}}\n",
    "\\end{equation}\n",
    "\n",
    "where u is the simulated wavefield and d is the observed wavefield."
   ]
  },
  {
   "cell_type": "code",
   "execution_count": 1,
   "metadata": {},
   "outputs": [],
   "source": [
    "import obspy\n",
    "import numpy as np\n",
    "import pandas as pd\n",
    "from myFormat.data_format import para_struct\n",
    "from seisflows.tools.graphics import _convert_to_array\n",
    "from scipy.interpolate import interp1d\n",
    "\n",
    "## for ploting\n",
    "import matplotlib.pyplot as plt \n",
    "from seisflows.tools.graphics import plot_section\n",
    "\n",
    "import argparse\n",
    "\n",
    "\n",
    "# for filtering\n",
    "from obspy.signal.filter import bandpass\n",
    "\n",
    "\n",
    "#### for spectrum plotting\n",
    "from scipy import signal\n",
    "#from obspy.signal.util import _npts2nfft\n",
    "#from obspy.signal.invsim import cosine_sac_taper\n",
    "from scipy.fftpack import fft, ifft, fftfreq"
   ]
  },
  {
   "cell_type": "code",
   "execution_count": 4,
   "metadata": {},
   "outputs": [
    {
     "ename": "IOError",
     "evalue": "[Errno 2] No such file or directory: 'obf/input/Up_delayed_ricker_i5j1_wcode.su'",
     "output_type": "error",
     "traceback": [
      "\u001b[0;31m---------------------------------------------------------------------------\u001b[0m",
      "\u001b[0;31mIOError\u001b[0m                                   Traceback (most recent call last)",
      "\u001b[0;32m<ipython-input-4-37fb350ac17c>\u001b[0m in \u001b[0;36m<module>\u001b[0;34m()\u001b[0m\n\u001b[1;32m      8\u001b[0m \u001b[0;32mimport\u001b[0m \u001b[0mos\u001b[0m\u001b[0;34m\u001b[0m\u001b[0m\n\u001b[1;32m      9\u001b[0m \u001b[0;34m\u001b[0m\u001b[0m\n\u001b[0;32m---> 10\u001b[0;31m \u001b[0mstream_obs\u001b[0m \u001b[0;34m=\u001b[0m \u001b[0mread\u001b[0m\u001b[0;34m(\u001b[0m\u001b[0;34m'obf/input/Up_delayed_ricker_i5j1_wcode.su'\u001b[0m\u001b[0;34m,\u001b[0m\u001b[0mformat\u001b[0m\u001b[0;34m=\u001b[0m\u001b[0;34m'SU'\u001b[0m\u001b[0;34m,\u001b[0m \u001b[0mbyteorder\u001b[0m\u001b[0;34m=\u001b[0m\u001b[0;34m'<'\u001b[0m\u001b[0;34m)\u001b[0m\u001b[0;34m\u001b[0m\u001b[0m\n\u001b[0m\u001b[1;32m     11\u001b[0m \u001b[0mdata_obs\u001b[0m \u001b[0;34m=\u001b[0m \u001b[0m_convert_to_array\u001b[0m\u001b[0;34m(\u001b[0m\u001b[0mstream_obs\u001b[0m\u001b[0;34m)\u001b[0m\u001b[0;34m\u001b[0m\u001b[0m\n\u001b[1;32m     12\u001b[0m \u001b[0;32mprint\u001b[0m\u001b[0;34m(\u001b[0m\u001b[0;34m'the shape of the observed data: '\u001b[0m\u001b[0;34m,\u001b[0m \u001b[0mdata_obs\u001b[0m\u001b[0;34m.\u001b[0m\u001b[0mshape\u001b[0m\u001b[0;34m)\u001b[0m\u001b[0;34m\u001b[0m\u001b[0m\n",
      "\u001b[0;32m<decorator-gen-153>\u001b[0m in \u001b[0;36mread\u001b[0;34m(pathname_or_url, format, headonly, starttime, endtime, nearest_sample, dtype, apply_calib, check_compression, **kwargs)\u001b[0m\n",
      "\u001b[0;32m/home/jiazeh/Desktop/my_files/py2project/venv/lib/python2.7/site-packages/obspy/core/util/decorator.pyc\u001b[0m in \u001b[0;36m_map_example_filename\u001b[0;34m(func, *args, **kwargs)\u001b[0m\n\u001b[1;32m    299\u001b[0m                         \u001b[0;32mexcept\u001b[0m \u001b[0mIOError\u001b[0m\u001b[0;34m:\u001b[0m\u001b[0;34m\u001b[0m\u001b[0m\n\u001b[1;32m    300\u001b[0m                             \u001b[0;32mpass\u001b[0m\u001b[0;34m\u001b[0m\u001b[0m\n\u001b[0;32m--> 301\u001b[0;31m         \u001b[0;32mreturn\u001b[0m \u001b[0mfunc\u001b[0m\u001b[0;34m(\u001b[0m\u001b[0;34m*\u001b[0m\u001b[0margs\u001b[0m\u001b[0;34m,\u001b[0m \u001b[0;34m**\u001b[0m\u001b[0mkwargs\u001b[0m\u001b[0;34m)\u001b[0m\u001b[0;34m\u001b[0m\u001b[0m\n\u001b[0m\u001b[1;32m    302\u001b[0m     \u001b[0;32mreturn\u001b[0m \u001b[0m_map_example_filename\u001b[0m\u001b[0;34m\u001b[0m\u001b[0m\n\u001b[1;32m    303\u001b[0m \u001b[0;34m\u001b[0m\u001b[0m\n",
      "\u001b[0;32m/home/jiazeh/Desktop/my_files/py2project/venv/lib/python2.7/site-packages/obspy/core/stream.pyc\u001b[0m in \u001b[0;36mread\u001b[0;34m(pathname_or_url, format, headonly, starttime, endtime, nearest_sample, dtype, apply_calib, check_compression, **kwargs)\u001b[0m\n\u001b[1;32m    239\u001b[0m                 \u001b[0;32mraise\u001b[0m \u001b[0mException\u001b[0m\u001b[0;34m(\u001b[0m\u001b[0;34m\"No file matching file pattern: %s\"\u001b[0m \u001b[0;34m%\u001b[0m \u001b[0mpathname\u001b[0m\u001b[0;34m)\u001b[0m\u001b[0;34m\u001b[0m\u001b[0m\n\u001b[1;32m    240\u001b[0m             \u001b[0;32melif\u001b[0m \u001b[0;32mnot\u001b[0m \u001b[0mhas_magic\u001b[0m\u001b[0;34m(\u001b[0m\u001b[0mpathname\u001b[0m\u001b[0;34m)\u001b[0m \u001b[0;32mand\u001b[0m \u001b[0;32mnot\u001b[0m \u001b[0mos\u001b[0m\u001b[0;34m.\u001b[0m\u001b[0mpath\u001b[0m\u001b[0;34m.\u001b[0m\u001b[0misfile\u001b[0m\u001b[0;34m(\u001b[0m\u001b[0mpathname\u001b[0m\u001b[0;34m)\u001b[0m\u001b[0;34m:\u001b[0m\u001b[0;34m\u001b[0m\u001b[0m\n\u001b[0;32m--> 241\u001b[0;31m                 \u001b[0;32mraise\u001b[0m \u001b[0mIOError\u001b[0m\u001b[0;34m(\u001b[0m\u001b[0;36m2\u001b[0m\u001b[0;34m,\u001b[0m \u001b[0;34m\"No such file or directory\"\u001b[0m\u001b[0;34m,\u001b[0m \u001b[0mpathname\u001b[0m\u001b[0;34m)\u001b[0m\u001b[0;34m\u001b[0m\u001b[0m\n\u001b[0m\u001b[1;32m    242\u001b[0m             \u001b[0;31m# Only raise error if no start/end time has been set. This\u001b[0m\u001b[0;34m\u001b[0m\u001b[0;34m\u001b[0m\u001b[0m\n\u001b[1;32m    243\u001b[0m             \u001b[0;31m# will return an empty stream if the user chose a time window with\u001b[0m\u001b[0;34m\u001b[0m\u001b[0;34m\u001b[0m\u001b[0m\n",
      "\u001b[0;31mIOError\u001b[0m: [Errno 2] No such file or directory: 'obf/input/Up_delayed_ricker_i5j1_wcode.su'"
     ]
    }
   ],
   "source": [
    "%matplotlib inline\n",
    "import matplotlib.pyplot as plt\n",
    "from obspy import read, UTCDateTime\n",
    "## for i/o\n",
    "#from obspy import read\n",
    "import scipy.io as sio \n",
    "from obspy.core.stream import Stream\n",
    "import os  \n",
    "\n",
    "stream_obs = read('obf/input/Up_delayed_ricker_i5j1_wcode.su',format='SU', byteorder='<')\n",
    "data_obs = _convert_to_array(stream_obs)\n",
    "print('the shape of the observed data: ', data_obs.shape)\n",
    "stream_syn = read('obf/input/Up_gaussian_1m_i5j1_oldsp_fluid_potential_f01000000.su',format='SU', byteorder='<')\n",
    "data_syn = _convert_to_array(stream_syn)\n",
    "\n",
    "trace_num = 0 \n",
    "\n",
    "trace_obs = data_obs[:,trace_num]\n",
    "print('shape of observed is :', trace_obs.shape)\n",
    "trace_syn = data_syn[:,trace_num]\n",
    "print('shape of synthetic signal is :', trace_syn.shape)\n",
    "\n"
   ]
  },
  {
   "cell_type": "code",
   "execution_count": null,
   "metadata": {},
   "outputs": [],
   "source": [
    "stf_syn_pd = pd.read_csv('obf/input/stf_gaussian_1m_i5j1_oldsp_fluid_potential_f01000000',header=None,delim_whitespace=True)\n",
    "stf_syn_1Dnp = stf_syn_pd.values\n",
    "stf_syn = stf_syn_1Dnp[:,1]\n",
    "stf_obs_1Dnp = pd.read_csv('obf/input/stf_delayed_ricker_i5j1_wcode',header=None,delim_whitespace=True).values\n",
    "stf_obs = stf_obs_1Dnp[:,1]\n",
    "\n",
    "syn_name = 'gaussian'\n",
    "obs_name = 'ricker'"
   ]
  },
  {
   "cell_type": "code",
   "execution_count": null,
   "metadata": {},
   "outputs": [],
   "source": []
  },
  {
   "cell_type": "code",
   "execution_count": null,
   "metadata": {},
   "outputs": [],
   "source": []
  },
  {
   "cell_type": "code",
   "execution_count": null,
   "metadata": {},
   "outputs": [],
   "source": []
  },
  {
   "cell_type": "code",
   "execution_count": null,
   "metadata": {},
   "outputs": [],
   "source": [
    " "
   ]
  },
  {
   "cell_type": "code",
   "execution_count": null,
   "metadata": {},
   "outputs": [],
   "source": [
    "# create a class of structure that can be used to store parameters for \n",
    "from myFormat.data_format import para_struct\n",
    "exp_para = para_struct('exp_para')\n",
    "# load all parameters: \n",
    "\n",
    "f0=500000; exp_para.f0 = f0\n",
    "fmax = 1000000; exp_para.fmax = fmax\n",
    "#output_time_step = 20000; exp_para.output_time_step = output_time_step;\n",
    "dt = 4e-9; exp_para.dt = dt\n",
    "#DownSampleFact=8; exp_para.DownSampleFact = DownSampleFact;\n",
    "dtNew = dt; exp_para.dtNew = dtNew;\n",
    "\n",
    "#%%% about the filters \n",
    "half_width=400000; exp_para.half_width = half_width;\n",
    "low_freq=100000; exp_para.low_freq = low_freq;\n",
    "high_freq=900000; exp_para.high_freq = high_freq;\n",
    "band=[low_freq,high_freq]; exp_para.band = band;\n",
    "nyq_freq=2.5e7; exp_para.nyq_freq = nyq_freq;\n",
    "N=50000; exp_para.N = N;\n"
   ]
  },
  {
   "cell_type": "code",
   "execution_count": null,
   "metadata": {},
   "outputs": [],
   "source": [
    "#SOURCE_SIGNAL_MATRIX=para.SOURCE_SIGNAL_MATRIX;\n",
    "\n",
    "##%%% \n",
    "#%rawdata = para.rawdata;\n",
    "Nt=8000; exp_para.Nt = Nt; \n",
    "#Na=20250; exp_para.Na = Na; \n",
    "NSrc=1; exp_para.NSrc = NSrc; \n",
    "NRec=360; exp_para.NRec = NRec;\n"
   ]
  },
  {
   "cell_type": "code",
   "execution_count": null,
   "metadata": {},
   "outputs": [],
   "source": [
    "# load the received signal from the transducer\n",
    "\n",
    "t_total = np.arange(dtNew,Nt*dtNew+dtNew,dtNew)\n",
    "exp_para.t_total = t_total\n",
    "#t_cut = np.arange(dtNew,output_time_step*dtNew+dtNew,dtNew)\n",
    "#exp_para.t_cut = t_cut\n",
    "t_cut = t_total\n",
    "exp_para.t_cut = t_cut\n",
    "\n",
    "sample_total = np.arange(1,Nt+1,1)\n",
    "#sample_cut = np.arange(1,output_time_step+1,1)\n",
    "sample_cut  = sample_total"
   ]
  },
  {
   "cell_type": "code",
   "execution_count": null,
   "metadata": {},
   "outputs": [],
   "source": [
    "import pickle\n",
    "pickle.dump(exp_para,open('obf/input/exp_para.pickle','wb'))\n"
   ]
  },
  {
   "cell_type": "markdown",
   "metadata": {},
   "source": [
    "### 1.1 plot the received signals"
   ]
  },
  {
   "cell_type": "code",
   "execution_count": null,
   "metadata": {},
   "outputs": [],
   "source": [
    "1.1 # plot the received signals\n",
    "t_star_show = 0\n",
    "t_end_show = Nt\n",
    "\n",
    "\n",
    "fig, (ax0,ax1,ax2,ax3,ax4,ax5) = plt.subplots(nrows=6)\n",
    "\n",
    "ax0.plot(sample_total[t_star_show:t_end_show],trace_syn[t_star_show:t_end_show],'b-')\n",
    "ax0.set_title('synthetic - ' + str(syn_name) + ' trace ' + str(trace_num))\n",
    "ax0.set_xlabel('time steps')\n",
    "\n",
    "ax1.plot(sample_total[t_star_show:t_end_show],trace_obs[t_star_show:t_end_show],'k-')\n",
    "ax1.set_title('observed - ' + str(obs_name) + ' trace ' + str(trace_num))\n",
    "ax1.set_xlabel('time steps')\n",
    "\n",
    "ax2.plot(t_total[t_star_show:t_end_show],trace_syn[t_star_show:t_end_show],'b-')\n",
    "ax2.set_title('synthetic - ' + str(syn_name) + ' trace ' + str(trace_num))\n",
    "ax2.set_xlabel('time (s)')\n",
    "\n",
    "ax3.plot(t_total[t_star_show:t_end_show],trace_obs[t_star_show:t_end_show],'k-')\n",
    "ax3.set_title('observed - ' + str(obs_name) + ' trace ' + str(trace_num))\n",
    "ax3.set_xlabel('time (s)')\n",
    "\n",
    "ax4.plot(t_total[t_star_show:t_end_show],stf_syn[t_star_show:t_end_show],'b-')\n",
    "ax4.set_title('synthetic - ' + str(syn_name) + ' trace ' + str(trace_num))\n",
    "ax4.set_xlabel('time (s)')\n",
    "\n",
    "ax5.plot(t_total[t_star_show:t_end_show],stf_obs[t_star_show:t_end_show],'k-')\n",
    "ax5.set_title('observed - ' + str(obs_name) + ' trace ' + str(trace_num))\n",
    "ax5.set_xlabel('time (s)')\n",
    "\n",
    "plt.tight_layout(rect=[0, 0, 1.5, 3])\n",
    "fig.show()"
   ]
  },
  {
   "cell_type": "markdown",
   "metadata": {},
   "source": [
    "### 1.2 zero padding for reliable FFT"
   ]
  },
  {
   "cell_type": "code",
   "execution_count": null,
   "metadata": {},
   "outputs": [],
   "source": [
    "import math as M\n",
    "from future.utils import native\n",
    "def next_pow_2(i):\n",
    "    \"\"\"\n",
    "    Find the next power of two\n",
    "\n",
    "    >>> int(next_pow_2(5))\n",
    "    8\n",
    "    >>> int(next_pow_2(250))\n",
    "    256\n",
    "    \"\"\"\n",
    "    # do not use NumPy here, math is much faster for single values\n",
    "    buf = M.ceil(M.log(i) / M.log(2))\n",
    "    return native(int(M.pow(2, buf)))\n",
    "\n",
    "# signal filtering\n",
    "\n",
    "\n",
    "fs=1./dt\n",
    "print('original sampling frequency in experimental data (not used): %f Hz' % fs)\n",
    "fs_new=1./dtNew\n",
    "print('new sampling frequency after resampling: %f Hz' % fs_new)\n",
    "\n",
    "nfft = next_pow_2(Nt)\n",
    "print('zero-padded length of fft: %d ' % nfft)\n",
    "\n",
    "#df_new = int(round(fs_new/nfft))\n",
    "#print(df_new_round)\n",
    "df_new = (fs_new/Nt)\n",
    "df_new_pad = (fs_new/nfft)\n",
    "\n",
    "print('frequency intervel before zero-padding: %f Hz ' % df_new)\n",
    "print('frequency intervel after zero-padding: %f Hz (actually used)' % df_new_pad)\n"
   ]
  },
  {
   "cell_type": "markdown",
   "metadata": {},
   "source": [
    "### 1.3 calculate the frequency spectrum for original signals "
   ]
  },
  {
   "cell_type": "code",
   "execution_count": 3,
   "metadata": {},
   "outputs": [
    {
     "ename": "NameError",
     "evalue": "name 'df_new' is not defined",
     "output_type": "error",
     "traceback": [
      "\u001b[0;31m---------------------------------------------------------------------------\u001b[0m",
      "\u001b[0;31mNameError\u001b[0m                                 Traceback (most recent call last)",
      "\u001b[0;32m<ipython-input-3-53585d11e805>\u001b[0m in \u001b[0;36m<module>\u001b[0;34m()\u001b[0m\n\u001b[1;32m      2\u001b[0m \u001b[0mfreq_show_end\u001b[0m \u001b[0;34m=\u001b[0m \u001b[0;36m10000000\u001b[0m\u001b[0;34m\u001b[0m\u001b[0m\n\u001b[1;32m      3\u001b[0m \u001b[0;34m\u001b[0m\u001b[0m\n\u001b[0;32m----> 4\u001b[0;31m \u001b[0mfreq_step_star\u001b[0m \u001b[0;34m=\u001b[0m \u001b[0mint\u001b[0m\u001b[0;34m(\u001b[0m\u001b[0mround\u001b[0m\u001b[0;34m(\u001b[0m\u001b[0mfreq_show_star\u001b[0m\u001b[0;34m/\u001b[0m\u001b[0mdf_new\u001b[0m\u001b[0;34m)\u001b[0m\u001b[0;34m)\u001b[0m\u001b[0;34m\u001b[0m\u001b[0m\n\u001b[0m\u001b[1;32m      5\u001b[0m \u001b[0;32mprint\u001b[0m\u001b[0;34m(\u001b[0m\u001b[0mfreq_step_star\u001b[0m\u001b[0;34m)\u001b[0m\u001b[0;34m\u001b[0m\u001b[0m\n\u001b[1;32m      6\u001b[0m \u001b[0mfreq_step_end\u001b[0m \u001b[0;34m=\u001b[0m \u001b[0mint\u001b[0m\u001b[0;34m(\u001b[0m\u001b[0mround\u001b[0m\u001b[0;34m(\u001b[0m\u001b[0mfreq_show_end\u001b[0m\u001b[0;34m/\u001b[0m\u001b[0mdf_new\u001b[0m\u001b[0;34m)\u001b[0m\u001b[0;34m)\u001b[0m\u001b[0;34m\u001b[0m\u001b[0m\n",
      "\u001b[0;31mNameError\u001b[0m: name 'df_new' is not defined"
     ]
    }
   ],
   "source": [
    "freq_show_star = 40000\n",
    "freq_show_end = 10000000\n",
    "\n",
    "freq_step_star = int(round(freq_show_star/df_new))\n",
    "print(freq_step_star)\n",
    "freq_step_end = int(round(freq_show_end/df_new))\n",
    "print(freq_step_end)\n",
    "\n",
    "xf = np.linspace(0.0, fs_new, nfft)\n",
    "yf_obs = fft(trace_obs[0:Nt], axis=0, n=nfft)\n",
    "yf_syn = fft(trace_syn[0:Nt], axis=0, n=nfft) \n",
    "yf_stf_obs = fft(stf_obs, axis=0, n=nfft)\n",
    "yf_stf_syn = fft(stf_syn, axis=0, n=nfft) \n",
    "\n"
   ]
  },
  {
   "cell_type": "code",
   "execution_count": null,
   "metadata": {},
   "outputs": [],
   "source": [
    " "
   ]
  },
  {
   "cell_type": "markdown",
   "metadata": {},
   "source": [
    "### 1.4 plot FFT results  "
   ]
  },
  {
   "cell_type": "code",
   "execution_count": 12,
   "metadata": {},
   "outputs": [
    {
     "name": "stderr",
     "output_type": "stream",
     "text": [
      "/home/jiazeh/Desktop/my_files/py2project/venv/lib/python2.7/site-packages/numpy/core/numeric.py:492: ComplexWarning: Casting complex values to real discards the imaginary part\n",
      "  return array(a, dtype, copy=False, order=order)\n"
     ]
    },
    {
     "data": {
      "image/png": "[encoded data removed]",
      "text/plain": [
       "<Figure size 432x288 with 8 Axes>"
      ]
     },
     "metadata": {},
     "output_type": "display_data"
    }
   ],
   "source": [
    "# sff - source frequency function \n",
    "fig, (ax0,ax1,ax2,ax3,ax4,ax5,ax6,ax7) = plt.subplots(nrows=8)\n",
    "#ax0.set_title('synthetic - ' + str(syn_name) + ' trace ' + str(trace_num))\n",
    "#ax1.set_title('observed - ' + str(obs_name) + ' trace ' + str(trace_num))\n",
    "#ax0.subplot(2, 1, 2)\n",
    "ax0.plot(xf/1000,yf_syn,'-b')\n",
    "ax0.set_title('synthetic - ' + str(syn_name) + ' trace ' + str(trace_num) + '- real part (not useful)')\n",
    "ax0.set_xlabel('frequency (kHz)')\n",
    "#ax0.set_ylabel('received signals')\n",
    "\n",
    "ax1.plot(xf/1000,np.abs(yf_syn),'-b')\n",
    "ax1.set_title('synthetic - ' + str(syn_name) + ' trace ' + str(trace_num) + '- absolute_value')\n",
    "ax1.set_xlabel('frequency (kHz)')\n",
    "\n",
    "ax2.plot(xf/1000,yf_obs,'-k')\n",
    "ax2.set_title('observed ' + str(obs_name) + ' trace  ' + str(trace_num) + '- real part (not useful)')\n",
    "ax2.set_xlabel('frequency (kHz)')\n",
    "#ax0.set_ylabel('received signals')\n",
    "\n",
    "ax3.plot(xf/1000,np.abs(yf_obs),'-k')\n",
    "ax3.set_title('observed - ' + str(obs_name) + ' trace  ' + str(trace_num) + '- absolute_value')\n",
    "ax3.set_xlabel('frequency (kHz)')\n",
    "\n",
    "ax4.plot(xf[freq_step_star-1:freq_step_end-1]/1000,np.abs(yf_syn[freq_step_star-1:freq_step_end-1]),'-b')\n",
    "ax4.set_title( 'synthetic - ' + str(syn_name) + ' trace  ' + str(trace_num) + ' absolute_value - zoom in')\n",
    "ax4.set_xlabel('frequency (kHz)')\n",
    "\n",
    "ax5.plot(xf[freq_step_star-1:freq_step_end-1]/1000,np.abs(yf_obs[freq_step_star-1:freq_step_end-1]),'-k')\n",
    "ax5.set_title( 'observed - ' + str(obs_name) + ' trace  ' + str(trace_num) + ' absolute_value - zoom in')\n",
    "ax5.set_xlabel('frequency (kHz)')\n",
    "\n",
    "ax6.plot(xf[freq_step_star-1:freq_step_end-1]/1000,np.abs(yf_stf_syn[freq_step_star-1:freq_step_end-1]),'-b')\n",
    "ax6.set_title( 'synthetic - stf - ' + str(syn_name) )\n",
    "ax6.set_xlabel('frequency (kHz)')\n",
    "\n",
    "ax7.plot(xf[freq_step_star-1:freq_step_end-1]/1000,np.abs(yf_stf_obs[freq_step_star-1:freq_step_end-1]),'-k')\n",
    "ax7.set_title( 'observed - stf ' + str(obs_name))\n",
    "ax7.set_xlabel('frequency (kHz)')\n",
    "\n",
    "plt.tight_layout(rect=[0, 0, 1.5, 4])\n",
    "\n",
    "fig.show()"
   ]
  },
  {
   "cell_type": "markdown",
   "metadata": {},
   "source": [
    "### 1.5 Try the bandpass function in obspy"
   ]
  },
  {
   "cell_type": "raw",
   "metadata": {},
   "source": [
    "\n",
    "freqmin=50000\n",
    "freqmax=950000\n",
    "\n",
    "print(fs_new)\n",
    "\n",
    "# filtering\n",
    "#stf_filtered = bandpass(stf_cut_nodelay, freqmin, freqmax, fs_new, zerophase=True)\n",
    "stf_filtered = bandpass(stf_cut_nodelay, freqmin, freqmax, fs_new, zerophase=True)\n",
    "yf_filtered = fft(stf_filtered, axis=0, n=nfft)\n",
    "\n",
    "stf_cut_nodelay_detrend = np.copy(signal.detrend(stf_cut_nodelay))\n",
    "yf_detrend = fft(stf_cut_nodelay_detrend, axis=0, n=nfft)\n",
    "stf_cut_nodelay_detrend_filtered = bandpass(stf_cut_nodelay_detrend, freqmin, freqmax, fs_new, zerophase=True)\n",
    "yf_detrend_filtered = fft(stf_cut_nodelay_detrend_filtered, axis=0, n=nfft) "
   ]
  },
  {
   "cell_type": "markdown",
   "metadata": {},
   "source": [
    "### 1.6  We now generate the frequency filter that has already been applied ot the processed field data. We plot the filter to verify."
   ]
  },
  {
   "cell_type": "code",
   "execution_count": 13,
   "metadata": {},
   "outputs": [
    {
     "name": "stdout",
     "output_type": "stream",
     "text": [
      "('tukey_length', 66)\n",
      "('nfft', 8192)\n",
      "('freq_pos.shape - tukey', (66,))\n",
      "('freq_pos.shape - pad', (68,))\n",
      "('freq_pos.shape - resize', (4096,))\n",
      "('freq_neg.shape - freq_pos[::-1]', (4096,))\n",
      "('syn_taper.shape - append', (8192,))\n"
     ]
    },
    {
     "data": {
      "text/plain": [
       "Text(0,0.5,'Gain')"
      ]
     },
     "execution_count": 13,
     "metadata": {},
     "output_type": "execute_result"
    },
    {
     "data": {
      "image/png": "[encoded data removed]",
      "text/plain": [
       "<Figure size 432x288 with 1 Axes>"
      ]
     },
     "metadata": {},
     "output_type": "display_data"
    }
   ],
   "source": [
    "import numpy as np\n",
    "from scipy import signal\n",
    "from obspy.signal.util import _npts2nfft\n",
    "from scipy.fftpack import fft, ifft, fftfreq\n",
    "\n",
    "# Setup prefilter with cosine taper\n",
    "#npts = len(field_trace.data) # resampled trace so different from FieldDataProcessing\n",
    "#print('npts',npts)\n",
    "#nfft = _npts2nfft(npts)\n",
    "\n",
    "tukey_end_freq = 2000000\n",
    "tukey_length = int(round(tukey_end_freq/df_new_pad))\n",
    "print('tukey_length',tukey_length)\n",
    "\n",
    "print('nfft',nfft)\n",
    "\n",
    "\n",
    "freq_pos = signal.tukey(tukey_length, alpha=0.01)\n",
    "print('freq_pos.shape - tukey',freq_pos.shape)\n",
    "freq_pos = np.pad(freq_pos, 1,'constant',constant_values=0)\n",
    "print('freq_pos.shape - pad',freq_pos.shape)\n",
    "freq_pos.resize(nfft/2)\n",
    "print('freq_pos.shape - resize',freq_pos.shape)\n",
    "freq_neg = freq_pos[::-1]\n",
    "print('freq_neg.shape - freq_pos[::-1]',freq_neg.shape)\n",
    "syn_taper = np.append(freq_pos, freq_neg)\n",
    "print('syn_taper.shape - append',syn_taper.shape)\n",
    "syn_taper\n",
    "# Plot the filter\n",
    "freqs = fftfreq(nfft, d=dtNew)\n",
    "#freqs = fftfreq(nfft, d=0.000000003)\n",
    "\n",
    "#plt.plot(freqs[0:120]/1e3,freq_pos[0:120])\n",
    "plt.plot(xf[freq_step_star-1:freq_step_end-1]/1e3,freq_pos[freq_step_star-1:freq_step_end-1])\n",
    "plt.title('Tukey Window Taper Applied')\n",
    "plt.xlabel('Frequency (kHz)')\n",
    "plt.ylabel('Gain')"
   ]
  },
  {
   "cell_type": "code",
   "execution_count": 14,
   "metadata": {},
   "outputs": [
    {
     "data": {
      "text/plain": [
       "<matplotlib.legend.Legend at 0x7fae181b5650>"
      ]
     },
     "execution_count": 14,
     "metadata": {},
     "output_type": "execute_result"
    },
    {
     "data": {
      "image/png": "[encoded data removed]",
      "text/plain": [
       "<Figure size 432x288 with 1 Axes>"
      ]
     },
     "metadata": {},
     "output_type": "display_data"
    }
   ],
   "source": [
    "# Now we change into the frequency domain\n",
    "\n",
    "yf_syn_maxnormed = yf_syn/max(yf_syn)\n",
    "yf_obs_maxnormed = yf_obs/max(yf_obs)\n",
    "\n",
    "#fftsyn = fft(syn_trace.data, n=nfft)\n",
    "#fftfield = fft(field_trace.data, n=nfft)\n",
    "yf_syn_filtered = yf_syn*syn_taper\n",
    "yf_syn_filtered_maxnormed = yf_syn_filtered/max(yf_syn_filtered)\n",
    "\n",
    "# Plot the spectrums\n",
    "#plt.plot(freqs,syn_taper)\n",
    "#plt.plot(freqs,np.abs(yf_syn_maxnormed),color=\"black\")\n",
    "#plt.plot(freqs,np.abs(yf_stf_obs_maxnormed),color=\"red\")\n",
    "plt.plot(xf[freq_step_star-1:freq_step_end-1]/1e3,syn_taper[freq_step_star-1:freq_step_end-1])\n",
    "plt.plot(xf[freq_step_star-1:freq_step_end-1]/1e3,np.abs(yf_obs_maxnormed[freq_step_star-1:freq_step_end-1]),color=\"black\")\n",
    "plt.plot(xf[freq_step_star-1:freq_step_end-1]/1e3,np.abs(yf_syn_filtered_maxnormed[freq_step_star-1:freq_step_end-1]),color=\"red\")\n",
    "\n",
    "\n",
    "plt.legend(['Filter for G', 'Obs Data', \"Green's Function - filtered syn signal \"])"
   ]
  },
  {
   "cell_type": "code",
   "execution_count": 15,
   "metadata": {},
   "outputs": [],
   "source": [
    "# Now we invert for the source in the frequency domain (obs as gaussian for Greens'function )\n",
    "yf_stf_inverted = np.array([0.0+0.0j])\n",
    "for i in range(1, nfft):\n",
    "    if np.abs(yf_syn_filtered_maxnormed[i]) != 0:\n",
    "        yf_stf_inverted = np.append(yf_stf_inverted, (yf_syn_filtered_maxnormed[i].T*yf_obs[i].conj().T)/(yf_syn_filtered_maxnormed[i].T*yf_syn_filtered_maxnormed[i].conj().T))\n",
    "    else:\n",
    "        yf_stf_inverted = np.append(yf_stf_inverted, 0.0+0.0j)\n",
    "yf_stf_inverted = yf_stf_inverted.conj().T"
   ]
  },
  {
   "cell_type": "code",
   "execution_count": 16,
   "metadata": {},
   "outputs": [],
   "source": [
    "#yf_stf_inverted = fft(stf_inverted[0:Nt], axis=0, n=nfft)\n",
    "stf_inverted=ifft(yf_stf_inverted,n=nfft)"
   ]
  },
  {
   "cell_type": "code",
   "execution_count": 17,
   "metadata": {},
   "outputs": [
    {
     "data": {
      "text/plain": [
       "4e-09"
      ]
     },
     "execution_count": 17,
     "metadata": {},
     "output_type": "execute_result"
    }
   ],
   "source": [
    "dtNew"
   ]
  },
  {
   "cell_type": "markdown",
   "metadata": {},
   "source": [
    "### 1.7 time shifted the inverted stf"
   ]
  },
  {
   "cell_type": "code",
   "execution_count": 18,
   "metadata": {},
   "outputs": [
    {
     "name": "stdout",
     "output_type": "stream",
     "text": [
      "('difference in time in s:', 4.0000000000000003e-07)\n"
     ]
    }
   ],
   "source": [
    "from seisflows.plugins.misfit import Traveltime\n",
    "time_step_comp = t_end_show\n",
    "time_diff = Traveltime(stf_obs,stf_inverted,time_step_comp,dtNew)\n",
    "print('difference in time in s:', time_diff)\n",
    "time_delay = int(round(time_diff/dtNew))\n"
   ]
  },
  {
   "cell_type": "code",
   "execution_count": null,
   "metadata": {},
   "outputs": [],
   "source": [
    " "
   ]
  },
  {
   "cell_type": "code",
   "execution_count": 19,
   "metadata": {},
   "outputs": [],
   "source": [
    "a = np.zeros(np.abs(time_delay))\n",
    "stf_inverted_shifted = np.append(a, stf_inverted[t_star_show:t_end_show+time_delay], axis=0)"
   ]
  },
  {
   "cell_type": "code",
   "execution_count": 20,
   "metadata": {},
   "outputs": [
    {
     "data": {
      "image/png": "[encoded data removed]",
      "text/plain": [
       "<Figure size 432x288 with 3 Axes>"
      ]
     },
     "metadata": {},
     "output_type": "display_data"
    }
   ],
   "source": [
    "# sff - source frequency function \n",
    "fig, (ax0,ax1,ax2) = plt.subplots(nrows=3)\n",
    "\n",
    "ax0.plot(xf[freq_step_star-1:freq_step_end-1]/1000,np.abs(yf_stf_syn[freq_step_star-1:freq_step_end-1]),'-b')\n",
    "ax0.set_title( 'stf used in synthetic case ' + str(syn_name))\n",
    "ax0.set_xlabel('frequency (kHz)')\n",
    "\n",
    "ax1.plot(xf[freq_step_star-1:freq_step_end-1]/1000,np.abs(yf_stf_obs[freq_step_star-1:freq_step_end-1]),'-k')\n",
    "ax1.set_title( 'stf used in observed case - ' + str(obs_name))\n",
    "ax1.set_xlabel('frequency (kHz)')\n",
    "\n",
    "ax2.plot(xf[freq_step_star-1:freq_step_end-1]/1000,np.abs(yf_stf_inverted[freq_step_star-1:freq_step_end-1]),'-m')\n",
    "ax2.set_title( 'inverted stf for observed data')\n",
    "ax2.set_xlabel('frequency (kHz)')\n",
    "\n",
    "#ax1.plot(xf[freq_step_star-1:freq_step_end-1]/1000,np.abs(yf_stf_obs[freq_step_star-1:freq_step_end-1]),'-k')\n",
    "#ax1.set_title( 'observed - gaussian, stf, absolute_value - zoom in')\n",
    "#ax1.set_xlabel('frequency (kHz)')\n",
    "\n",
    "plt.tight_layout(rect=[0, 0, 1, 1.5])\n",
    "\n",
    "fig.show()"
   ]
  },
  {
   "cell_type": "code",
   "execution_count": 21,
   "metadata": {},
   "outputs": [
    {
     "data": {
      "image/png": "[encoded data removed]",
      "text/plain": [
       "<Figure size 432x288 with 4 Axes>"
      ]
     },
     "metadata": {},
     "output_type": "display_data"
    }
   ],
   "source": [
    "# stf - source time function \n",
    "fig, (ax0,ax1,ax2,ax3) = plt.subplots(nrows=4)\n",
    "\n",
    "ax0.plot(t_total[t_star_show:t_end_show]*1e6,stf_syn[t_star_show:t_end_show],'b-')\n",
    "ax0.set_title('stf used in synthetic case ' + str(syn_name))\n",
    "ax0.set_xlabel('time (s)')\n",
    "\n",
    "ax1.plot(t_total[t_star_show:t_end_show]*1e6,stf_obs[t_star_show:t_end_show],'k-')\n",
    "ax1.set_title('stf used in observed case  ' + str(obs_name))\n",
    "ax1.set_xlabel('time (s)')\n",
    "\n",
    "ax2.plot(t_total[t_star_show:t_end_show]*1e6,stf_inverted_shifted[t_star_show:t_end_show],'g-')\n",
    "ax2.set_title('stf - inverted - shifted by cc' )\n",
    "ax2.set_xlabel('time (s)')\n",
    "\n",
    "\n",
    "ax3.plot(t_total[t_star_show:t_end_show]*1e6,stf_inverted[t_star_show:t_end_show],'m-')\n",
    "ax3.set_title('stf - inverted ')\n",
    "ax3.set_xlabel('time (s)')\n",
    "\n",
    "plt.tight_layout(rect=[0, 0, 1, 2])\n",
    "fig.show()"
   ]
  },
  {
   "cell_type": "code",
   "execution_count": 22,
   "metadata": {},
   "outputs": [
    {
     "data": {
      "text/plain": [
       "<matplotlib.legend.Legend at 0x7fae1d54bcd0>"
      ]
     },
     "execution_count": 22,
     "metadata": {},
     "output_type": "execute_result"
    },
    {
     "data": {
      "image/png": "[encoded data removed]",
      "text/plain": [
       "<Figure size 432x288 with 1 Axes>"
      ]
     },
     "metadata": {},
     "output_type": "display_data"
    }
   ],
   "source": [
    "fig = plt.figure()\n",
    "titlename = 'comparison of stf, original vs reconstructed'\n",
    "num_rec = 2\n",
    "ax = fig.add_subplot(1, 1, 1)\n",
    "#ax = fig.add_subplot(num_rec, 1, i+1)\n",
    "ax.plot(t_total[t_star_show:t_end_show]*1e6,stf_obs[t_star_show:t_end_show]/max(np.abs(stf_obs[t_star_show:t_end_show])),'k-',label='stf - obs')\n",
    "ax.plot(t_total[t_star_show:t_end_show]*1e6,stf_inverted_shifted[t_star_show:t_end_show]/max(np.abs(stf_inverted_shifted[t_star_show:t_end_show])),'g-', label='stf - inverted')\n",
    "#ax.set_title('stf - inverted - shifted by cc' )\n",
    "ax.set_xlabel('time (s)')\n",
    "\n",
    "ax.set_title(titlename)\n",
    "ax.legend()    "
   ]
  },
  {
   "cell_type": "markdown",
   "metadata": {},
   "source": [
    "### 1.8 post processing the inverted stf"
   ]
  },
  {
   "cell_type": "code",
   "execution_count": 23,
   "metadata": {},
   "outputs": [
    {
     "name": "stdout",
     "output_type": "stream",
     "text": [
      "250000000.0\n"
     ]
    }
   ],
   "source": [
    "# filtering \n",
    "\n",
    "\n",
    "freqmin=50000\n",
    "freqmax=2600000\n",
    "\n",
    "print(fs_new)\n",
    "\n",
    "# filtering\n",
    "#stf_filtered = bandpass(stf_cut_nodelay, freqmin, freqmax, fs_new, zerophase=True)\n",
    "stf_inverted_shifted_filtered = bandpass(stf_inverted_shifted, freqmin, freqmax, fs_new, zerophase=True)\n",
    "yf_stf_inverted_shifted_filtered = fft(stf_inverted_shifted_filtered, axis=0, n=nfft)\n",
    "\n",
    "#stf_cut_nodelay_detrend = np.copy(signal.detrend(stf_inverted_shifted_filtered))\n",
    "#yf_detrend = fft(stf_cut_nodelay_detrend, axis=0, n=nfft)\n",
    "#stf_cut_nodelay_detrend_filtered = bandpass(stf_cut_nodelay_detrend, freqmin, freqmax, fs_new, zerophase=True)\n",
    "#yf_detrend_filtered = fft(stf_cut_nodelay_detrend_filtered, axis=0, n=nfft) "
   ]
  },
  {
   "cell_type": "markdown",
   "metadata": {},
   "source": [
    "#### inverted stf"
   ]
  },
  {
   "cell_type": "code",
   "execution_count": 24,
   "metadata": {},
   "outputs": [
    {
     "data": {
      "image/png": "[encoded data removed]",
      "text/plain": [
       "<Figure size 432x288 with 1 Axes>"
      ]
     },
     "metadata": {},
     "output_type": "display_data"
    }
   ],
   "source": [
    "fig = plt.figure()\n",
    "titlename = 'comparison of stf, original vs reconstructed'\n",
    "num_rec = 2\n",
    "ax = fig.add_subplot(1, 1, 1)\n",
    "#ax = fig.add_subplot(num_rec, 1, i+1)\n",
    "ax.plot(t_total[t_star_show:t_end_show]*1e6,stf_obs[t_star_show:t_end_show]/max(np.abs(stf_obs[t_star_show:t_end_show])),'k-',label='stf - obs')\n",
    "ax.plot(t_total[t_star_show:t_end_show]*1e6,stf_inverted_shifted[t_star_show:t_end_show]/max(np.abs(stf_inverted_shifted[t_star_show:t_end_show])),'g-', label='stf - inverted')\n",
    "ax.plot(t_total[t_star_show:t_end_show]*1e6,stf_inverted_shifted_filtered[t_star_show:t_end_show]/max(np.abs(stf_inverted_shifted[t_star_show:t_end_show])),'r-', label='stf - inverted - filtered')\n",
    "\n",
    "#ax.set_title('stf - inverted - shifted by cc' )\n",
    "ax.set_xlabel('time ($mus$)')\n",
    "\n",
    "     \n",
    "ax.set_title(titlename)\n",
    "ax.legend()    \n",
    "\n",
    "plt.tight_layout(rect=[0, 0, 2, 1.5])\n",
    "fig.show()"
   ]
  },
  {
   "cell_type": "code",
   "execution_count": null,
   "metadata": {},
   "outputs": [],
   "source": []
  },
  {
   "cell_type": "markdown",
   "metadata": {},
   "source": [
    "### 1.9 save the signal as specfem's input"
   ]
  },
  {
   "cell_type": "code",
   "execution_count": 25,
   "metadata": {
    "scrolled": true
   },
   "outputs": [
    {
     "name": "stderr",
     "output_type": "stream",
     "text": [
      "/home/jiazeh/Desktop/my_files/py2project/venv/lib/python2.7/site-packages/ipykernel_launcher.py:9: ComplexWarning: Casting complex values to real discards the imaginary part\n",
      "  if __name__ == '__main__':\n"
     ]
    }
   ],
   "source": [
    "\n",
    "import time\n",
    "output_time_step = 5000\n",
    "\n",
    "stf = open(\"obf/output/stf_inverted_shifted_filtered_8000\",\"w\")\n",
    "\n",
    "for i in range(0,output_time_step):#nstep + delay):\n",
    "    stf.write(\"%20.19f \" %t_total[i])\n",
    "    stf.write(\"%20.19f\\n\" %stf_inverted_shifted_filtered[i] )\n",
    "    # to make sure the i/o is correct with the write function \n",
    "    #print(i)\n",
    "    time.sleep(0.001)"
   ]
  },
  {
   "cell_type": "code",
   "execution_count": null,
   "metadata": {},
   "outputs": [],
   "source": []
  },
  {
   "cell_type": "code",
   "execution_count": 46,
   "metadata": {},
   "outputs": [],
   "source": [
    "dtNew=4e-08"
   ]
  },
  {
   "cell_type": "markdown",
   "metadata": {},
   "source": [
    "### 2.0 ricker generation"
   ]
  },
  {
   "cell_type": "code",
   "execution_count": 47,
   "metadata": {},
   "outputs": [],
   "source": [
    "import numpy as np\n",
    "import matplotlib.pyplot as plt\n",
    " \n",
    "def ricker(f, length=28e-6, dt=dtNew):\n",
    "    t = np.arange(-length/2, (length-dt)/2, dt)\n",
    "    y = - (1.0 - 2.0*(np.pi**2)*(f**2)*(t**2)) * np.exp(-(np.pi**2)*(f**2)*(t**2))\n",
    "    return t, y\n",
    " \n",
    "f = 500000 # A low wavelength of 25 Hz\n",
    "t, w = ricker(f)\n",
    "\n",
    "\n",
    "#time_delay = 500\n",
    "#azeros = np.zeros(np.abs(time_delay))\n",
    "#w_padded = np.append(azeros, w[t_star_show:t_end_show-time_delay], axis=0)\n",
    "\n"
   ]
  },
  {
   "cell_type": "code",
   "execution_count": 60,
   "metadata": {},
   "outputs": [
    {
     "data": {
      "text/plain": [
       "700"
      ]
     },
     "execution_count": 60,
     "metadata": {},
     "output_type": "execute_result"
    }
   ],
   "source": [
    "\n",
    "len(t)"
   ]
  },
  {
   "cell_type": "code",
   "execution_count": 48,
   "metadata": {},
   "outputs": [
    {
     "name": "stdout",
     "output_type": "stream",
     "text": [
      "('difference in time in s:', -7.000000000000001e-05)\n",
      "('difference in timesteps :', -1750)\n"
     ]
    }
   ],
   "source": [
    "time_step_comp = t_end_show\n",
    "time_diff =Traveltime(stf_inverted_shifted,w,time_step_comp,dtNew)\n",
    "print('difference in time in s:', time_diff)\n",
    "time_delay = int(round(time_diff/dtNew))\n",
    "print('difference in timesteps :', time_delay)"
   ]
  },
  {
   "cell_type": "code",
   "execution_count": 89,
   "metadata": {},
   "outputs": [],
   "source": [
    "time_delay = 0\n",
    "t_end_show = 7000\n",
    "azeros = np.zeros(np.abs(time_delay))\n",
    "w_padded = np.append(azeros, w[t_star_show:t_end_show-time_delay], axis=0)\n",
    "w_padded2 = np.append(w_padded, np.zeros(t_end_show-len(t)), axis=0)\n",
    "\n",
    "t_self = np.arange(dtNew,len(t)*dtNew+dtNew,dtNew)\n",
    "t_self_long = np.arange(dtNew,t_end_show*dtNew,dtNew)"
   ]
  },
  {
   "cell_type": "code",
   "execution_count": 90,
   "metadata": {},
   "outputs": [
    {
     "name": "stdout",
     "output_type": "stream",
     "text": [
      "('w_padded', (700,))\n",
      "('w_padded2', (7000,))\n",
      "('t_self', (700,))\n",
      "('t_self_long', (7000,))\n"
     ]
    }
   ],
   "source": [
    "print('w_padded',w_padded.shape)\n",
    "print('w_padded2',w_padded2.shape)\n",
    "print('t_self',t_self.shape)\n",
    "print('t_self_long',t_self_long.shape)\n"
   ]
  },
  {
   "cell_type": "code",
   "execution_count": null,
   "metadata": {},
   "outputs": [],
   "source": [
    " \n"
   ]
  },
  {
   "cell_type": "code",
   "execution_count": 91,
   "metadata": {},
   "outputs": [
    {
     "data": {
      "image/png": "[encoded data removed]",
      "text/plain": [
       "<Figure size 432x288 with 1 Axes>"
      ]
     },
     "metadata": {},
     "output_type": "display_data"
    }
   ],
   "source": [
    "## unnormalized \n",
    "fig = plt.figure()\n",
    "titlename = 'comparison of stf, original vs reconstructed'\n",
    "num_rec = 2\n",
    "ax = fig.add_subplot(1, 1, 1)\n",
    "#ax = fig.add_subplot(num_rec, 1, i+1)\n",
    "ax.plot(t_self*1e6,w_padded,'b-',label='ricker - self')\n",
    "ax.plot(t_self_long*1e6,w_padded2,'r-',label='ricker - self')\n",
    "#ax.plot(t_self*1e6,w_padded,'b-',label='ricker - self')\n",
    "##ax.plot(t_self*1e6,w_padded2,'r-',label='ricker - self')\n",
    "#ax.plot(t*1e6,w_padded2,'r-',label='ricker - self - backpadded')\n",
    "###ax.plot(t_total[t_star_show:t_end_show]*1e6,stf_obs[t_star_show:t_end_show]/max(np.abs(stf_obs[t_star_show:t_end_show])),'k-',label='stf - obs')\n",
    "\n",
    "#ax.plot(t_total[t_star_show:t_end_show]*1e6,stf_inverted_shifted[t_star_show:t_end_show]/max(np.abs(stf_inverted_shifted[t_star_show:t_end_show])),'g-', label='stf - inverted')\n",
    "#ax.plot(t_total[t_star_show:t_end_show]*1e6,stf_inverted_shifted_filtered[t_star_show:t_end_show]/max(np.abs(stf_inverted_shifted[t_star_show:t_end_show])),'r-', label='stf - inverted - filtered')\n",
    "\n",
    "#ax.set_title('stf - inverted - shifted by cc' )\n",
    "###ax.set_xlabel(r'$time (\\mus)$')\n",
    "ax.set_xlabel(r'$ time (\\mu s)$')\n",
    "\n",
    "ax.set_title(titlename)\n",
    "ax.legend()    \n",
    "\n",
    "plt.tight_layout(rect=[0, 0, 2, 1])\n",
    "fig.show()"
   ]
  },
  {
   "cell_type": "code",
   "execution_count": 92,
   "metadata": {},
   "outputs": [],
   "source": [
    "stf = open(\"obf/output/stf_ricker_small_delayed\",\"w\")\n",
    "\n",
    "\n",
    "for i in range(0,7000):#nstep + delay):\n",
    "    stf.write(\"%20.19f \" %t_self_long[i])\n",
    "    stf.write(\"%20.19f\\n\" %w_padded2[i] )\n",
    "    # to make sure the i/o is correct with the write function \n",
    "    #print(i)\n",
    "    time.sleep(0.001)"
   ]
  },
  {
   "cell_type": "code",
   "execution_count": null,
   "metadata": {},
   "outputs": [],
   "source": [
    " w_padded2.shape"
   ]
  },
  {
   "cell_type": "code",
   "execution_count": null,
   "metadata": {},
   "outputs": [],
   "source": [
    "t_self"
   ]
  },
  {
   "cell_type": "code",
   "execution_count": null,
   "metadata": {},
   "outputs": [],
   "source": []
  },
  {
   "cell_type": "code",
   "execution_count": null,
   "metadata": {},
   "outputs": [],
   "source": []
  },
  {
   "cell_type": "code",
   "execution_count": null,
   "metadata": {},
   "outputs": [],
   "source": [
    "stf_inverted[t_star_show+time_delay:t_end_show+time_delay].shape"
   ]
  },
  {
   "cell_type": "code",
   "execution_count": null,
   "metadata": {},
   "outputs": [],
   "source": []
  },
  {
   "cell_type": "code",
   "execution_count": null,
   "metadata": {},
   "outputs": [],
   "source": [
    "# Setup prefilter with cosine taper\n",
    "#npts = len(syn_trace.data)\n",
    "#nfft = _npts2nfft(npts)\n",
    "freqindex = np.where(freqs>60)\n",
    "print(freqindex[0][0])\n",
    "freq_pos = signal.tukey(101, alpha=0.25)\n",
    "freq_pos = np.pad(freq_pos, 4,'constant',constant_values=0)\n",
    "freq_pos.resize(nfft/2)\n",
    "#freq_pos = np.roll(freq_pos, 4)\n",
    "freq_neg = freq_pos[::-1]\n",
    "freq_taper = np.append(freq_pos, freq_neg)\n",
    "\n",
    "# Plot the filter\n",
    "freqs = fftfreq(nfft, d=0.0003)\n",
    "# filter with cosine taper\n",
    "stf_inverted *= freq_taper\n",
    "#tf *= freq_taper\n",
    "#stf *= syn_taper\n",
    "plt.plot(ifft(stf_inverted,n=nfft)[0:Nt])\n",
    "plt.figure()\n",
    "plt.plot(freqs[0:100], np.abs(stf[0:100]))\n",
    "#plt.legend(['Taper Applied', 'STF after applying Taper'])"
   ]
  },
  {
   "cell_type": "code",
   "execution_count": null,
   "metadata": {},
   "outputs": [],
   "source": []
  },
  {
   "cell_type": "code",
   "execution_count": null,
   "metadata": {},
   "outputs": [],
   "source": []
  },
  {
   "cell_type": "code",
   "execution_count": null,
   "metadata": {},
   "outputs": [],
   "source": []
  },
  {
   "cell_type": "code",
   "execution_count": null,
   "metadata": {},
   "outputs": [],
   "source": []
  },
  {
   "cell_type": "code",
   "execution_count": null,
   "metadata": {},
   "outputs": [],
   "source": [
    "%matplotlib inline\n",
    "import matplotlib.pyplot as plt\n",
    "from obspy import read, UTCDateTime\n",
    "\n",
    "# First we read in the observed and synthetic data and plot a single trace\n",
    "field_obs = read('observed', unpacked_headers=True) # processed field data (720 traces)\n",
    "specfem3d_syn = read('synthetic', unpacked_headers= True) # Green's function from SPECFEM3D (720 traces)\n",
    "field_trace = field_obs.traces[4] # Trace about ~10 m away from source\n",
    "syn_trace = specfem3d_syn.traces[4] # Trace about ~10 m away from source\n",
    "beginTime = UTCDateTime(syn_trace.stats.starttime)\n",
    "syn_trace.trim(beginTime, beginTime+0.6)\n",
    "syn_trace.detrend('constant')\n",
    "syn_trace.taper(max_percentage=0.05,type='cosine')\n",
    "syn_trace.plot()\n",
    "beginTime = UTCDateTime(field_trace.stats.starttime)\n",
    "field_trace.trim(beginTime, beginTime+0.6)\n",
    "field_trace.detrend('constant')\n",
    "field_trace.taper(max_percentage=0.05,type='cosine')\n",
    "field_trace.plot()"
   ]
  },
  {
   "cell_type": "code",
   "execution_count": null,
   "metadata": {},
   "outputs": [],
   "source": [
    "field_obs"
   ]
  },
  {
   "cell_type": "code",
   "execution_count": null,
   "metadata": {},
   "outputs": [],
   "source": [
    "type(field_trace)"
   ]
  },
  {
   "cell_type": "code",
   "execution_count": null,
   "metadata": {},
   "outputs": [],
   "source": [
    "beginTime_syn = UTCDateTime(syn_trace.stats.starttime)\n",
    "beginTime_syn"
   ]
  },
  {
   "cell_type": "code",
   "execution_count": null,
   "metadata": {},
   "outputs": [],
   "source": [
    "beginTime_obs = UTCDateTime(syn_trace.stats.starttime)\n",
    "beginTime_obs"
   ]
  },
  {
   "cell_type": "markdown",
   "metadata": {},
   "source": [
    "We now generate the frequency filter that has already been applied ot the processed field data. We plot the filter to verify."
   ]
  },
  {
   "cell_type": "code",
   "execution_count": null,
   "metadata": {},
   "outputs": [],
   "source": [
    "import numpy as np\n",
    "from scipy import signal\n",
    "from obspy.signal.util import _npts2nfft\n",
    "from scipy.fftpack import fft, ifft, fftfreq\n",
    "\n",
    "# Setup prefilter with cosine taper\n",
    "npts = len(field_trace.data) # resampled trace so different from FieldDataProcessing\n",
    "nfft = _npts2nfft(npts)\n",
    "freq_pos = signal.tukey(101, alpha=0.25)\n",
    "#print('freq_pos',freq_pos)\n",
    "freq_pos = np.pad(freq_pos, 4,'constant',constant_values=0)\n",
    "freq_pos.resize(nfft/2)\n",
    "freq_neg = freq_pos[::-1]\n",
    "syn_taper = np.append(freq_pos, freq_neg)\n",
    "syn_taper\n",
    "# Plot the filter\n",
    "freqs = fftfreq(nfft, d=0.0003)\n",
    "plt.plot(freqs[0:120],freq_pos[0:120])\n",
    "plt.title('Tukey Window Taper Applied')\n",
    "plt.xlabel('Frequency (Hz)')\n",
    "plt.ylabel('Gain')"
   ]
  },
  {
   "cell_type": "code",
   "execution_count": null,
   "metadata": {},
   "outputs": [],
   "source": [
    "# Now we change into the frequency domain\n",
    "syn_trace.data /= max(syn_trace.data)\n",
    "\n",
    "fftsyn = fft(syn_trace.data, n=nfft)\n",
    "fftfield = fft(field_trace.data, n=nfft)\n",
    "fftsyn *= syn_taper\n",
    "\n",
    "# Plot the spectrums\n",
    "plt.plot(freqs,syn_taper)\n",
    "plt.plot(freqs,np.abs(fftfield),color=\"black\")\n",
    "plt.plot(freqs,np.abs(fftsyn),color=\"red\")\n",
    "plt.legend(['Filter for G', 'Field Data', \"Green's Function\"])"
   ]
  },
  {
   "cell_type": "code",
   "execution_count": null,
   "metadata": {},
   "outputs": [],
   "source": [
    "# Now we invert for the source in the frequency domain \n",
    "stf = np.array([0.0+0.0j])\n",
    "for i in range(1, nfft):\n",
    "    if np.abs(fftsyn[i]) != 0:\n",
    "        stf = np.append(stf, (fftsyn[i].T*fftfield[i].conj().T)/(fftsyn[i].T*fftsyn[i].conj().T))\n",
    "    else:\n",
    "        stf = np.append(stf, 0.0+0.0j)\n",
    "stf = stf.conj().T"
   ]
  },
  {
   "cell_type": "code",
   "execution_count": null,
   "metadata": {},
   "outputs": [],
   "source": [
    "# Setup prefilter with cosine taper\n",
    "#npts = len(syn_trace.data)\n",
    "#nfft = _npts2nfft(npts)\n",
    "freqindex = np.where(freqs>60)\n",
    "print(freqindex[0][0])\n",
    "freq_pos = signal.tukey(101, alpha=0.25)\n",
    "freq_pos = np.pad(freq_pos, 4,'constant',constant_values=0)\n",
    "freq_pos.resize(nfft/2)\n",
    "#freq_pos = np.roll(freq_pos, 4)\n",
    "freq_neg = freq_pos[::-1]\n",
    "freq_taper = np.append(freq_pos, freq_neg)\n",
    "# Plot the filter\n",
    "freqs = fftfreq(nfft, d=0.0003)\n",
    "# filter with cosine taper\n",
    "stf *= freq_taper\n",
    "#tf *= freq_taper\n",
    "#stf *= syn_taper\n",
    "plt.plot(ifft(stf,n=nfft)[0:npts])\n",
    "plt.figure()\n",
    "plt.plot(freqs[0:100], np.abs(stf[0:100]))\n",
    "#plt.legend(['Taper Applied', 'STF after applying Taper'])"
   ]
  },
  {
   "cell_type": "code",
   "execution_count": null,
   "metadata": {},
   "outputs": [],
   "source": [
    "from obspy import Trace\n",
    "st = Trace(data=ifft(stf,n=nfft)[0:npts])\n",
    "st.stats.delta=0.0003\n",
    "st.taper(max_percentage=0.05,type='hann')\n",
    "st.filter('bandpass',freqmin=8,freqmax=20,zerophase=True)\n",
    "plt.plot(st)\n",
    "plt.figure()\n",
    "plt.plot(freqs[0:100], np.abs(stf[0:100]))"
   ]
  },
  {
   "cell_type": "code",
   "execution_count": null,
   "metadata": {},
   "outputs": [],
   "source": [
    "# Now convolve the source with the Green's Function\n",
    "from obspy.core import Trace\n",
    "from numpy.fft import *\n",
    "#ik = np.array([2j*np.pi*k for k in xrange(0, nfft)])/ nfft\n",
    "#fshift = np.exp(-ik*52)\n",
    "syn_trace = specfem3d_syn.traces[4] # Trace about ~10 m away from source\n",
    "beginTime = UTCDateTime(syn_trace.stats.starttime)\n",
    "syn_trace.trim(beginTime, beginTime+0.6)\n",
    "syn_trace.detrend('constant')\n",
    "syn_trace.taper(max_percentage=0.05,type='cosine')\n",
    "w = np.linalg.norm(syn_trace.data, ord=2)\n",
    "syn_trace.data /= w\n",
    "fftsyn = fft(syn_trace.data, n=nfft)\n",
    "fftsyn *= syn_taper\n",
    "#stf *= syn_taper\n",
    "st = Trace(data=ifft(stf,n=nfft)[0:npts])\n",
    "st.stats.delta=0.0003\n",
    "st.detrend('demean')\n",
    "st.taper(max_percentage=0.05,type='hann')\n",
    "st.filter('bandpass',freqmin=8,freqmax=20,zerophase=True)\n",
    "convolved_Green=ifft(fftsyn*fft(st.data,n=nfft), n=nfft)[0:npts]\n",
    "synGreen = Trace(data=convolved_Green)\n",
    "synGreen.stats.delta=0.0003\n",
    "#plt.plot(ifft(stf,n=nfft)[0:npts])\n",
    "synGreen.filter('bandpass',freqmin=8,freqmax=20,zerophase=True)\n",
    "w = np.linalg.norm(synGreen.data, ord=2)\n",
    "synGreen.data /= w\n",
    "plt.plot(synGreen, color=\"red\")\n",
    "field_trace = field_obs.traces[4] # Trace about ~10 m away from source\n",
    "field_trace.filter('bandpass',freqmin=8,freqmax=20,zerophase=True)\n",
    "w = np.linalg.norm(field_trace.data, ord=2)\n",
    "field_trace.data /= w\n",
    "plt.plot(field_trace, color=\"black\")\n",
    "syn_trace.filter('bandpass',freqmin=8,freqmax=20,zerophase=True)\n",
    "w = np.linalg.norm(syn_trace.data, ord=2)\n",
    "syn_trace.data /= w\n",
    "plt.plot(syn_trace,color=\"green\")\n",
    "plt.legend([\"Green's function convolved with STF\", \"Field Data\", \"Green's function\"])\n",
    "plt.savefig('compare.pdf')"
   ]
  },
  {
   "cell_type": "markdown",
   "metadata": {},
   "source": [
    "# Robust Source Inversion\n",
    "\n",
    "This notebook improves the method described in SourceInversionSteps.ipynb by stacking\n",
    "the results from the formula using different traces in a small radius from the source."
   ]
  },
  {
   "cell_type": "code",
   "execution_count": null,
   "metadata": {},
   "outputs": [],
   "source": [
    "%matplotlib inline\n",
    "import numpy as np\n",
    "from obspy.core import Stream, Trace\n",
    "from obspy.signal.util import _npts2nfft\n",
    "from scipy import signal\n",
    "from scipy.fftpack import fft, ifft, fftfreq\n",
    "import matplotlib.pyplot as plt\n",
    "from obspy import read, UTCDateTime\n",
    "\n",
    "# First we read in the observed and synthetic data\n",
    "field_obs = read('processed_obsIR.su', unpacked_headers=True) # processed field data (720 traces)\n",
    "specfem3d_syn = read('0_dz_SU', unpacked_headers= True) # Green's function from SPECFEM3D (720 traces)"
   ]
  },
  {
   "cell_type": "code",
   "execution_count": null,
   "metadata": {},
   "outputs": [],
   "source": [
    "allstf = np.zeros(1, dtype=np.complex)# Used to store the stacked stf\n",
    "print(allstf.shape)\n",
    "num_traces = 5 # number of traces used to estimate STF\n",
    "#wshift = np.arange(0,0.0015,.0003) # shifting windows\n",
    "    \n",
    "for trace_index in range(0, num_traces): # Each trace is used to estimate STF \n",
    "    print(allstf.shape)\n",
    "\n",
    "    field_trace = field_obs.traces[trace_index]\n",
    "    syn_trace = specfem3d_syn.traces[trace_index]\n",
    "    \n",
    "    # Cut the window around the direct arrival\n",
    "    beginTime = UTCDateTime(field_trace.stats.starttime)\n",
    "    field_trace.trim(beginTime, beginTime+0.6)\n",
    "    beginTime = UTCDateTime(syn_trace.stats.starttime)\n",
    "    syn_trace.trim(beginTime, beginTime+0.6)\n",
    "\n",
    "    field_trace.detrend('constant')\n",
    "    field_trace.taper(max_percentage=0.05,type='cosine')\n",
    "\n",
    "    syn_trace.detrend('constant')\n",
    "    syn_trace.taper(max_percentage=0.05,type='cosine')\n",
    "    # Now we change into the frequency domain\n",
    "    if (trace_index == 0): # First trace\n",
    "        npts = len(field_trace.data) # length of signal\n",
    "        nfft = _npts2nfft(npts)\n",
    "        allstf.resize(nfft)\n",
    "    print(allstf.shape)\n",
    "\n",
    "    syn_trace.normalize() # FIX! This should not be necessary\n",
    "    fftsyn = fft(syn_trace.data, n=nfft)\n",
    "    fftfield = fft(field_trace.data, n=nfft)\n",
    "    freqs = fftfreq(len(fftfield), d=0.0003)\n",
    "\n",
    "    # Setup prefilter with cosine taper\n",
    "    freqindex = np.where(freqs>85)\n",
    "    freq_pos = signal.tukey(101, alpha=0.25)\n",
    "    freq_pos.resize(nfft/2)\n",
    "    freq_neg = freq_pos[::-1]\n",
    "    freq_taper = np.append(freq_pos, freq_neg)\n",
    "\n",
    "    # Apply prefilter to synthetic (already applied to real data)\n",
    "    fftsyn *= freq_taper\n",
    "        \n",
    "    # Now we invert for the source in the frequency domain \n",
    "    stf = np.array([0.0+0.0j])\n",
    "    for i in range(1, nfft):\n",
    "        if np.abs(fftsyn[i]) != 0:\n",
    "            stf = np.append(stf, (fftsyn[i].T*fftfield[i].conj().T)/(fftsyn[i].T*fftsyn[i].conj().T))\n",
    "        else:\n",
    "            stf = np.append(stf, 0.0+0.0j)\n",
    "    stf = stf.conj().T\n",
    "    plt.plot(freqs[0:50], np.abs(stf[0:50]))\n",
    "    stf *= freq_taper # filter the stf\n",
    "    print(allstf.shape,stf.shape)\n",
    "    allstf += stf # stack the stf\n",
    "plt.legend(['trace 1', 'trace 2', 'trace 3', 'trace 4', 'trace 5'])\n",
    "allstf /= num_traces # Normalize"
   ]
  },
  {
   "cell_type": "code",
   "execution_count": null,
   "metadata": {},
   "outputs": [],
   "source": [
    "# Now convolve the source with the Green's Function\n",
    "from obspy.core import Trace\n",
    "convolved_Green=ifft(fftsyn*allstf, n=nfft)[0:npts]\n",
    "synGreen = Trace(data=convolved_Green)\n",
    "synGreen.stats.delta=0.0003\n",
    "plt.plot(synGreen.data, color=\"red\")\n",
    "plt.plot(ifft(fftfield, n=nfft)[0:npts], color=\"black\")\n",
    "plt.legend([\"Green's function convolved with STF\", \"Field Data\"])"
   ]
  },
  {
   "cell_type": "code",
   "execution_count": null,
   "metadata": {},
   "outputs": [],
   "source": []
  },
  {
   "cell_type": "code",
   "execution_count": null,
   "metadata": {},
   "outputs": [],
   "source": []
  }
 ],
 "metadata": {
  "kernelspec": {
   "display_name": "Python 2",
   "language": "python",
   "name": "python2"
  },
  "language_info": {
   "codemirror_mode": {
    "name": "ipython",
    "version": 2
   },
   "file_extension": ".py",
   "mimetype": "text/x-python",
   "name": "python",
   "nbconvert_exporter": "python",
   "pygments_lexer": "ipython2",
   "version": "2.7.5"
  }
 },
 "nbformat": 4,
 "nbformat_minor": 2
}
