{
 "cells": [
  {
   "cell_type": "markdown",
   "metadata": {},
   "source": [
    "# frequency domain inversion on csic data"
   ]
  },
  {
   "cell_type": "markdown",
   "metadata": {},
   "source": [
    "## 1. 1 preparation for source inversion\n",
    "#### import libraries\n",
    "#### load data from estimated Green's functions, represented by the received signals from (relatively) wide-band received signals generating from a Gaussian stf\n",
    "#### load observed data from experimental signals"
   ]
  },
  {
   "cell_type": "code",
   "execution_count": 3,
   "metadata": {
    "scrolled": false
   },
   "outputs": [
    {
     "name": "stdout",
     "output_type": "stream",
     "text": [
      "('the shape of the observed data: ', (3360, 176))\n",
      "('the shape of the synthetic data: ', (42000, 176))\n"
     ]
    }
   ],
   "source": [
    "#%%capture\n",
    "execfile('plot_csic_main')"
   ]
  },
  {
   "cell_type": "markdown",
   "metadata": {},
   "source": [
    "### 1.2 all constants are created here "
   ]
  },
  {
   "cell_type": "code",
   "execution_count": 4,
   "metadata": {},
   "outputs": [
    {
     "name": "stdout",
     "output_type": "stream",
     "text": [
      "UpSampleFactor : 0.0800000000000000017 \n",
      "original sampling interval - syn: 0.0000000040000000000 s\n",
      "original sampling interval - obs: 0.0000000500000000000 s\n",
      "sampling interval before resampling - dtNewsyn: 0.0000000040000000000 s\n",
      "sampling interval before resampling - dtNewobs: 0.0000000040000000000 s\n",
      "sampling rate before resampling - syn: 250000000.000000 Hz\n",
      "sampling rate before resampling - obs: 20000000.000000 Hz\n",
      "sampling rate fsNewsyn after resampling - syn: 250000000.000000 Hz\n",
      "sampling rate fsNewobs after resampling - obs: 250000000.000000 Hz\n",
      "('time steps after resamping Ntnewobs = ', 42000)\n",
      "zero-padded length of fft nfftsyn - syn: 65536 \n",
      "zero-padded length of fft nfftobs - obs: 4096 \n",
      "zero-padded length of fft nfftNewobs - obs: 65536 \n",
      "zero-padded length of fft nfftNewsyn - syn: 65536 \n",
      "frequency intervel after zero-padding - syn: 3814.697266 Hz\n",
      "frequency intervel after zero-padding - obs: 61035.156250 Hz\n",
      "frequency intervel after zero-padding - Newobs: 3814.697266 Hz (actually used)\n",
      "frequency intervel after zero-padding - Newsyn: 3814.697266 Hz (actually used)\n",
      "('shape of the original frequency range - obs:', (4096,))\n",
      "('shape of the interpolated frequency range - xf_Newobs.shape:', (65536,))\n",
      "('shape of the interpolated frequency range - xf_Newsyn.shape:', (65536,))\n",
      "2\n",
      "189\n",
      "('freq_step_starNewobs', 26)\n",
      "('freq_step_endNewobs', 2359)\n",
      "('freq_step_starNewsyn', 26)\n",
      "('freq_step_endNewsyn', 2359)\n"
     ]
    }
   ],
   "source": [
    "execfile('pconstant_setup.py')"
   ]
  },
  {
   "cell_type": "code",
   "execution_count": null,
   "metadata": {},
   "outputs": [],
   "source": []
  },
  {
   "cell_type": "markdown",
   "metadata": {},
   "source": [
    "###  1.3 individual trace preprocessing"
   ]
  },
  {
   "cell_type": "markdown",
   "metadata": {},
   "source": [
    "#### 1.3.1 loading, interpolation, and fft"
   ]
  },
  {
   "cell_type": "code",
   "execution_count": 10,
   "metadata": {},
   "outputs": [],
   "source": [
    "trace_seleted = 90\n",
    "trace_num = trace_seleted\n",
    "# output: traceNew_obs,traceNew_syn，yf_Newobs，yf_Newsyn\n",
    "execfile('ptraceprepare.py')"
   ]
  },
  {
   "cell_type": "markdown",
   "metadata": {},
   "source": [
    "#### 1.3.2 just to plot the fft spectrum\n"
   ]
  },
  {
   "cell_type": "code",
   "execution_count": null,
   "metadata": {
    "scrolled": false
   },
   "outputs": [],
   "source": [
    "execfile('pplot_one_spectrum.py')"
   ]
  },
  {
   "cell_type": "code",
   "execution_count": null,
   "metadata": {},
   "outputs": [],
   "source": [
    "stf_syn.shape"
   ]
  },
  {
   "cell_type": "markdown",
   "metadata": {},
   "source": [
    "#### 1.3.3 filer in the frequency domain "
   ]
  },
  {
   "cell_type": "code",
   "execution_count": null,
   "metadata": {},
   "outputs": [],
   "source": [
    "# filer in the frequency domain \n",
    "execfile('ptukey.py')"
   ]
  },
  {
   "cell_type": "markdown",
   "metadata": {},
   "source": [
    "### 1.5 the actual source inversion program !!!!"
   ]
  },
  {
   "cell_type": "code",
   "execution_count": null,
   "metadata": {},
   "outputs": [],
   "source": [
    "# by controlling the range of the traces, chose stacked or not stacked  \n",
    "inv_trace_num_star = 89\n",
    "inv_trace_num_end = 90+1 \n",
    "execfile('pstf_inverse.py')"
   ]
  },
  {
   "cell_type": "markdown",
   "metadata": {},
   "source": [
    "### 1.6 filtering the inverted stf signal using a bandpass filter"
   ]
  },
  {
   "cell_type": "code",
   "execution_count": null,
   "metadata": {},
   "outputs": [],
   "source": [
    "execfile('pfilter_istf.py')"
   ]
  },
  {
   "cell_type": "markdown",
   "metadata": {},
   "source": [
    "### 1.7 ploting the inverted stf/sff, with attempts for further improvements using detrend or filtering"
   ]
  },
  {
   "cell_type": "code",
   "execution_count": null,
   "metadata": {},
   "outputs": [],
   "source": [
    "execfile('pconstant_setup.py')\n",
    "execfile('pstf_inverse_plot.py')"
   ]
  },
  {
   "cell_type": "markdown",
   "metadata": {},
   "source": [
    "### 1.8 save source inversion as txt - first inversion"
   ]
  },
  {
   "cell_type": "code",
   "execution_count": null,
   "metadata": {},
   "outputs": [],
   "source": [
    "#### output the txt file: t_totalNew_obs and stf_inverted_trace_filtered\n",
    "#execfile('pistf_save.py')"
   ]
  },
  {
   "cell_type": "markdown",
   "metadata": {},
   "source": [
    "### 1.9 this is to dump the interpolated observed data for later usage "
   ]
  },
  {
   "cell_type": "code",
   "execution_count": null,
   "metadata": {
    "scrolled": false
   },
   "outputs": [],
   "source": [
    "##### run once would be enough\n",
    "execfile('pdata_Re_obs_gene.py')"
   ]
  },
  {
   "cell_type": "code",
   "execution_count": null,
   "metadata": {},
   "outputs": [],
   "source": []
  },
  {
   "cell_type": "markdown",
   "metadata": {},
   "source": [
    "## 2.0 check the recovered stf's influence, compare the received signals from     \n",
    "#### specfem2d using inverted stf with the measured signals review the individual trace generated from the inverted source time function "
   ]
  },
  {
   "cell_type": "markdown",
   "metadata": {},
   "source": [
    "### 2.1 this is to load back the new observed data"
   ]
  },
  {
   "cell_type": "code",
   "execution_count": 13,
   "metadata": {},
   "outputs": [],
   "source": [
    "###data recovered as numpy as, one is interpolated observed data; the oth    er is received data generated from the inverted source time function\n",
    "\n",
    "execfile('pdata_Re_obs_load.py')"
   ]
  },
  {
   "cell_type": "markdown",
   "metadata": {},
   "source": [
    "### 2.2 setup the individual traces to evaluate the inverted source"
   ]
  },
  {
   "cell_type": "code",
   "execution_count": 21,
   "metadata": {},
   "outputs": [
    {
     "name": "stdout",
     "output_type": "stream",
     "text": [
      "UpSampleFactor : 0.0800000000000000017 \n",
      "original sampling interval - syn: 0.0000000040000000000 s\n",
      "original sampling interval - obs: 0.0000000500000000000 s\n",
      "sampling interval before resampling - dtNewsyn: 0.0000000040000000000 s\n",
      "sampling interval before resampling - dtNewobs: 0.0000000040000000000 s\n",
      "sampling rate before resampling - syn: 250000000.000000 Hz\n",
      "sampling rate before resampling - obs: 20000000.000000 Hz\n",
      "sampling rate fsNewsyn after resampling - syn: 250000000.000000 Hz\n",
      "sampling rate fsNewobs after resampling - obs: 250000000.000000 Hz\n",
      "('time steps after resamping Ntnewobs = ', 42000)\n",
      "zero-padded length of fft nfftsyn - syn: 65536 \n",
      "zero-padded length of fft nfftobs - obs: 4096 \n",
      "zero-padded length of fft nfftNewobs - obs: 65536 \n",
      "zero-padded length of fft nfftNewsyn - syn: 65536 \n",
      "frequency intervel after zero-padding - syn: 3814.697266 Hz\n",
      "frequency intervel after zero-padding - obs: 61035.156250 Hz\n",
      "frequency intervel after zero-padding - Newobs: 3814.697266 Hz (actually used)\n",
      "frequency intervel after zero-padding - Newsyn: 3814.697266 Hz (actually used)\n",
      "('shape of the original frequency range - obs:', (4096,))\n",
      "('shape of the interpolated frequency range - xf_Newobs.shape:', (65536,))\n",
      "('shape of the interpolated frequency range - xf_Newsyn.shape:', (65536,))\n",
      "2\n",
      "189\n",
      "('freq_step_starNewobs', 26)\n",
      "('freq_step_endNewobs', 2359)\n",
      "('freq_step_starNewsyn', 26)\n",
      "('freq_step_endNewsyn', 2359)\n",
      "('shape of observed is :', (42000,))\n",
      "('shape of inverted source signal is :', (42000,))\n"
     ]
    }
   ],
   "source": [
    "#%%capture\n",
    "%matplotlib inline\n",
    "execfile('pconstant_setup.py')\n",
    "\n",
    "## length for comparison of number of time steps\n",
    "Ntcomp=Ntsyn; exp_para.Ntcomp = Ntcomp; \n",
    "# dtNew = 6e-9;\n",
    "t_src_comp = np.arange(dtNew,Ntcomp*dtNew+dtNew,dtNew)\n",
    "\n",
    "## data recovered as numpy as, one is interpolated observed data; the oth\n",
    "## er is received data generated from the inverted source time function\n",
    "\n",
    "## the trace number to compare\n",
    "trace_num = trace_seleted\n",
    "\n",
    "trace_interp_obs = data_Re_obs[:Ntcomp,trace_num]\n",
    "print('shape of observed is :', trace_interp_obs.shape)\n",
    "trace_Re_syn = data_Re_syn[:Ntcomp,trace_num]\n",
    "print('shape of inverted source signal is :', trace_Re_syn.shape)\n",
    "\n",
    "#yf_Newobs_ = fft(trace_obs, axis=0, n=nfftNewobs)\n",
    "# fft of the newly recovered signals\n",
    "yf_trace_interp_obs = fft(trace_interp_obs, axis=0, n=nfftNewobs)\n",
    "yf_trace_inverted_syn = fft(trace_Re_syn, axis=0, n=nfftNewsyn)\n"
   ]
  },
  {
   "cell_type": "markdown",
   "metadata": {},
   "source": [
    "### 2.3 plot the individual traces to evaluate the inverted source"
   ]
  },
  {
   "cell_type": "code",
   "execution_count": 26,
   "metadata": {},
   "outputs": [
    {
     "name": "stdout",
     "output_type": "stream",
     "text": [
      "('amp_ratio_obs_syn = ', 5.874681655393542e+18)\n"
     ]
    },
    {
     "data": {
      "image/png": "[encoded data removed]",
      "text/plain": [
       "<Figure size 432x288 with 5 Axes>"
      ]
     },
     "metadata": {},
     "output_type": "display_data"
    }
   ],
   "source": [
    "steps_length = 4000\n",
    "t_star_showsyn = 30000\n",
    "t_end_showsyn = steps_length + t_star_showsyn\n",
    "t_star_showobs = 30000\n",
    "t_end_showobs = steps_length + t_star_showobs\n",
    "execfile('pplot_Re_one_spectrum.py')\n"
   ]
  },
  {
   "cell_type": "code",
   "execution_count": null,
   "metadata": {},
   "outputs": [],
   "source": []
  },
  {
   "cell_type": "code",
   "execution_count": null,
   "metadata": {},
   "outputs": [],
   "source": []
  },
  {
   "cell_type": "code",
   "execution_count": null,
   "metadata": {},
   "outputs": [],
   "source": []
  },
  {
   "cell_type": "code",
   "execution_count": null,
   "metadata": {},
   "outputs": [],
   "source": []
  },
  {
   "cell_type": "code",
   "execution_count": null,
   "metadata": {},
   "outputs": [],
   "source": []
  },
  {
   "cell_type": "code",
   "execution_count": null,
   "metadata": {},
   "outputs": [],
   "source": []
  },
  {
   "cell_type": "code",
   "execution_count": null,
   "metadata": {},
   "outputs": [],
   "source": []
  },
  {
   "cell_type": "code",
   "execution_count": null,
   "metadata": {},
   "outputs": [],
   "source": []
  },
  {
   "cell_type": "code",
   "execution_count": null,
   "metadata": {
    "scrolled": false
   },
   "outputs": [],
   "source": [
    "%%capture\n",
    "# supress the printing function \n",
    "#trace_num = 120 \n",
    "#for trace_num in range(0,170,30):\n",
    "\n",
    "yf_stf_inverted_stack = np.zeros(1, dtype=np.complex)\n",
    "for trace_num in range(0,176,1):\n",
    "    #execfile('plot_csic.py')\n",
    "    execfile('ptraceprepare.py')\n",
    "    # Now we change into the frequency domain\n",
    "\n",
    "    yf_NewNormobs = yf_Newobs/(max(yf_Newobs))\n",
    "    yf_NewNormsyn = yf_Newsyn/(max(yf_Newsyn))\n",
    "\n",
    "    #yf_obs_maxnormed = yf_obs/max(yf_obs)\n",
    "\n",
    "    # normalized received signals in the frequency domain, for plotting purposes\n",
    "    yf_Newsyn_filteredsyn = yf_Newsyn*syn_taper\n",
    "    yf_Newsyn_filteredNormsyn = yf_Newsyn_filteredsyn/max(yf_Newsyn_filteredsyn)\n",
    "\n",
    "    yf_Newsyn_filteredobs = yf_Newobs*syn_taper\n",
    "    yf_Newsyn_filteredNormobs = yf_Newsyn_filteredobs/max(yf_Newsyn_filteredobs)\n",
    "\n",
    "    \n",
    "    # Now we invert for the source in the frequency domain (obs as gaussian for Greens'function )\n",
    "    yf_stf_inverted = np.array([0.0+0.0j])\n",
    "    for i in range(1, nfftNewsyn):\n",
    "        if np.abs(yf_Newsyn_filteredsyn[i]) != 0:\n",
    "            #yf_stf_inverted = np.append(yf_stf_inverted, (yf_Newsyn_filteredNormsyn[i].T*yf_Newobs[i].conj().T)/(yf_Newsyn_filteredNormsyn[i].T*yf_Newsyn_filteredNormsyn[i].conj().T))\n",
    "            yf_stf_inverted = np.append(yf_stf_inverted, (yf_Newsyn_filteredsyn[i].T*yf_Newobs[i].conj().T)/(yf_Newsyn_filteredsyn[i].T*yf_Newsyn_filteredsyn[i].conj().T))\n",
    "        else:\n",
    "            yf_stf_inverted = np.append(yf_stf_inverted, 0.0+0.0j)\n",
    "    yf_stf_inverted = yf_stf_inverted.conj().T\n",
    "    #yf_stf_inverted = fft(stf_inverted[0:Nt], axis=0, n=nfft)\n",
    "    yf_stf_inverted_stack = yf_stf_inverted_stack + yf_stf_inverted\n",
    "    "
   ]
  },
  {
   "cell_type": "code",
   "execution_count": null,
   "metadata": {},
   "outputs": [],
   "source": [
    "# stf_inverted=ifft(yf_stf_inverted,n=nfftNewsyn)\n",
    "# stf_inverted_stack=ifft(yf_stf_inverted_stack,n=nfftNewsyn)\n",
    "\n",
    "fig, (ax2,ax3,ax4,ax5) = plt.subplots(nrows=4)\n",
    "\n",
    "ax2.plot(xf_Newobs[freq_step_starNewobs:freq_step_endNewobs]/1000,np.abs(yf_stf_inverted[freq_step_starNewobs:freq_step_endNewobs]),'-k')\n",
    "ax2.set_title('inverted sff ' + str(obs_name) + ' trace  ' + str(trace_num) + '- absolute_value')\n",
    "ax2.set_xlabel('frequency (kHz)')\n",
    "\n",
    "ax3.plot(xf_Newobs[freq_step_starNewobs:freq_step_endNewobs]/1000,np.abs(yf_stf_inverted_stack[freq_step_starNewobs:freq_step_endNewobs]),'-k')\n",
    "ax3.set_title('inverted sff stacked ' + str(obs_name) )\n",
    "ax3.set_xlabel('frequency (kHz)')\n",
    "\n",
    "ax4.plot(t_totalNew_obs[t_starNew_showobs:t_endNew_showobs],stf_inverted[t_starNew_showobs:t_endNew_showobs],'k-')\n",
    "ax4.set_title('inverted stf - ' + str(obs_name) + ' trace ' + str(trace_num))\n",
    "ax4.set_xlabel('time (us)')\n",
    "\n",
    "ax5.plot(t_totalNew_obs[t_starNew_showobs:t_endNew_showobs],stf_inverted_stack[t_starNew_showobs:t_endNew_showobs],'k-')\n",
    "ax5.set_title('inverted stf - stacked ' + str(obs_name))\n",
    "ax5.set_xlabel('time (us)')\n",
    "\n",
    "##ax5.plot(xf_Newobs[freq_step_starNewobs:freq_step_endNewobs]/1000,np.abs(yf_stf_inverted_stack[freq_step_starNewobs:freq_step_endNewobs]),'-k')\n",
    "#ax5.set_title('inverted stf stacked ' + str(obs_name) + ' trace  ' + str(trace_num) + '- absolute_value')\n",
    "#ax5.set_xlabel('frequency (kHz)')\n",
    "\n",
    "\n",
    "plt.tight_layout(rect=[0, 0, 1.5, 2])"
   ]
  },
  {
   "cell_type": "code",
   "execution_count": null,
   "metadata": {},
   "outputs": [],
   "source": [
    "import time\n",
    "\n",
    "\n",
    "stf = open(\"obf/output/stf_tbd_csic\",\"w\")\n",
    "\n",
    "for i in range(0,27000):#nstep + delay):\n",
    "    stf.write(\"%20.19f \" %t_totalNew_obs[i])\n",
    "    stf.write(\"%20.19f\\n\" %stf_inverted_stack[i] )\n",
    "    # to make sure the i/o is correct with the write function \n",
    "    #print(i)\n",
    "    time.sleep(0.001)"
   ]
  },
  {
   "cell_type": "code",
   "execution_count": null,
   "metadata": {},
   "outputs": [],
   "source": [
    "t_totalNew_obs.shape"
   ]
  },
  {
   "cell_type": "code",
   "execution_count": null,
   "metadata": {},
   "outputs": [],
   "source": [
    "np.abs(yf_Newobs).shape"
   ]
  },
  {
   "cell_type": "code",
   "execution_count": null,
   "metadata": {},
   "outputs": [],
   "source": [
    "import pickle\n",
    "pickle.dump(exp_para,open('obf/input/exp_para.pickle','wb'))\n"
   ]
  },
  {
   "cell_type": "code",
   "execution_count": null,
   "metadata": {},
   "outputs": [],
   "source": [
    "trace_inverted_obs = data_obs[:41000,trace_num]\n",
    "print('shape of observed is :', trace_inverted_obs.shape)"
   ]
  },
  {
   "cell_type": "code",
   "execution_count": null,
   "metadata": {},
   "outputs": [],
   "source": [
    "%%capture\n",
    "execfile('plot_csic_main')"
   ]
  },
  {
   "cell_type": "code",
   "execution_count": null,
   "metadata": {},
   "outputs": [],
   "source": [
    "trace_inverted_obs.shape"
   ]
  },
  {
   "cell_type": "code",
   "execution_count": null,
   "metadata": {},
   "outputs": [],
   "source": [
    "%%capture\n",
    "%matplotlib inline\n",
    "execfile('pconstant_setup.py')\n",
    "\n",
    "## length for comparison of number of time steps\n",
    "Ntcomp=Ntsyn; exp_para.Ntcomp = Ntcomp; \n",
    "# dtNew = 6e-9;\n",
    "t_src_comp = np.arange(dtNew,Ntcomp*dtNew+dtNew,dtNew)\n",
    "\n",
    "\n",
    "## data recovered as numpy as, one is interpolated observed data; the oth\n",
    "## er is received data generated from the inverted source time function\n",
    "execfile('pdata_Re_obs_load.py')\n",
    "\n",
    "## the trace number to compare\n",
    "trace_num = 88\n",
    "\n",
    "trace_interp_obs = data_Re_obs[:Ntcomp,trace_num]\n",
    "print('shape of observed is :', trace_interp_obs.shape)\n",
    "trace_Re_syn = data_Re_syn[:Ntcomp,trace_num]\n",
    "print('shape of inverted source signal is :', trace_Re_syn.shape)\n",
    "\n",
    "#yf_Newobs_ = fft(trace_obs, axis=0, n=nfftNewobs)\n",
    "# fft of the newly recovered signals\n",
    "yf_trace_inverted_syn = fft(trace_Re_syn, axis=0, n=nfftNewsyn)\n"
   ]
  },
  {
   "cell_type": "code",
   "execution_count": null,
   "metadata": {},
   "outputs": [],
   "source": [
    "#print('the shape of the synthetic data using the inverted signals: ', data_Re_syn.shape)\n",
    "#print('the shape of the observed data: ', data_Re_obs.shape)\n"
   ]
  },
  {
   "cell_type": "code",
   "execution_count": null,
   "metadata": {},
   "outputs": [],
   "source": [
    "steps_length = 3000\n",
    "\n",
    "t_star_showsyn = 15000\n",
    "t_end_showsyn = steps_length + t_star_showsyn\n",
    "\n",
    "t_star_showobs = 20500\n",
    "t_end_showobs = steps_length + t_star_showobs\n",
    "\n",
    "execfile('pplot_Re_one_spectrum.py')\n"
   ]
  },
  {
   "cell_type": "code",
   "execution_count": null,
   "metadata": {},
   "outputs": [],
   "source": []
  },
  {
   "cell_type": "code",
   "execution_count": null,
   "metadata": {},
   "outputs": [],
   "source": []
  },
  {
   "cell_type": "markdown",
   "metadata": {},
   "source": [
    "### 1.1 plot the received signals"
   ]
  },
  {
   "cell_type": "code",
   "execution_count": null,
   "metadata": {},
   "outputs": [],
   "source": [
    "1.1 # plot the received signals\n",
    "time_star= 800 * dtobs\n",
    "time_end = 2700 * dtobs\n",
    "\n",
    "\n",
    "t_star_show = int(time_star/dtNew)\n",
    "t_end_show = int(time_end/dtNew)\n",
    "\n",
    "t_star_showsyn = int(time_star/dtsyn)\n",
    "t_end_showsyn = int(time_end/dtsyn)\n",
    "\n",
    "t_star_showobs = int(time_star/dtobs)\n",
    "t_end_showobs = int(time_end/dtobs)\n",
    "\n",
    "t_starNew_showobs = int(time_star/dtNewobs)\n",
    "t_endNew_showobs = int(time_end/dtNewobs)\n",
    "\n",
    "\n",
    "fig, (ax0,ax1,ax2,ax3,ax4,ax5,ax6) = plt.subplots(nrows=7)\n",
    "\n",
    "ax0.plot(sample_syn[t_star_showsyn:t_end_showsyn],trace_syn[t_star_showsyn:t_end_showsyn],'b-')\n",
    "ax0.set_title('synthetic - ' + str(syn_name) + ' trace ' + str(trace_num))\n",
    "ax0.set_xlabel('time steps')\n",
    "\n",
    "ax1.plot(sample_obs[t_star_showobs:t_end_showobs],trace_obs[t_star_showobs:t_end_showobs],'k-')\n",
    "ax1.set_title('observed - ' + str(obs_name) + ' trace ' + str(trace_num))\n",
    "ax1.set_xlabel('time steps')\n",
    "\n",
    "ax2.plot(t_total_syn[t_star_showsyn:t_end_showsyn],trace_syn[t_star_showsyn:t_end_showsyn],'b-')\n",
    "ax2.set_title('synthetic - ' + str(syn_name) + ' trace ' + str(trace_num))\n",
    "ax2.set_xlabel('time (s)')\n",
    "\n",
    "ax3.plot(t_total_obs[t_star_showobs:t_end_showobs],trace_obs[t_star_showobs:t_end_showobs],'k-')\n",
    "ax3.set_title('observed - ' + str(obs_name) + ' trace ' + str(trace_num))\n",
    "ax3.set_xlabel('time (s)')\n",
    "\n",
    "ax4.plot(t_totalNew_obs[t_starNew_showobs:t_endNew_showobs],traceNew_obs[t_starNew_showobs:t_endNew_showobs],'k-')\n",
    "ax4.set_title('observed resampled - ' + str(obs_name) + ' trace ' + str(trace_num))\n",
    "ax4.set_xlabel('time (s)')\n",
    "\n",
    "ax5.plot(t_totalNew_obs[t_starNew_showobs:t_endNew_showobs],traceNew_detrendobs[t_starNew_showobs:t_endNew_showobs],'k-')\n",
    "ax5.set_title('observed resampled detrend - ' + str(obs_name) + ' trace ' + str(trace_num))\n",
    "ax5.set_xlabel('time (s)')\n",
    "\n",
    "ax6.plot(t_totalNew_obs[t_starNew_showobs:t_endNew_showobs],traceNew_detrend_filteredobs[t_starNew_showobs:t_endNew_showobs],'k-')\n",
    "ax6.set_title('observed resampled detrend filtered - ' + str(obs_name) + ' trace ' + str(trace_num))\n",
    "ax6.set_xlabel('time (s)')\n",
    "\n",
    "\n",
    "plt.tight_layout(rect=[0, 0, 3, 4])\n",
    "fig.show()"
   ]
  },
  {
   "cell_type": "code",
   "execution_count": null,
   "metadata": {},
   "outputs": [],
   "source": []
  },
  {
   "cell_type": "markdown",
   "metadata": {},
   "source": [
    "### 2.0  We now generate the frequency filter that has already been applied to the processed field data. We plot the filter to verify."
   ]
  },
  {
   "cell_type": "code",
   "execution_count": null,
   "metadata": {},
   "outputs": [],
   "source": [
    "import numpy as np\n",
    "from scipy import signal\n",
    "from obspy.signal.util import _npts2nfft\n",
    "from scipy.fftpack import fft, ifft, fftfreq\n",
    "\n",
    "# Setup prefilter with cosine taper\n",
    "#npts = len(field_trace.data) # resampled trace so different from FieldDataProcessing\n",
    "#print('npts',npts)\n",
    "#nfft = _npts2nfft(npts)\n",
    "\n",
    "tukey_end_freq = 8000000\n",
    "tukey_length = int(round(tukey_end_freq/dfNew_padResyn))\n",
    "print('tukey_length',tukey_length)\n",
    "\n",
    "print('nfft',nfft)\n",
    "print('nfftNewobs',nfftNewobs)\n",
    "\n",
    "freq_pos = signal.tukey(tukey_length, alpha=0.02)\n",
    "print('freq_pos.shape - tukey',freq_pos.shape)\n",
    "freq_pos = np.pad(freq_pos, 1,'constant',constant_values=0)\n",
    "print('freq_pos.shape - pad',freq_pos.shape)\n",
    "freq_pos.resize(nfftNewobs/2)\n",
    "print('freq_pos.shape - resize',freq_pos.shape)\n",
    "freq_neg = freq_pos[::-1]\n",
    "print('freq_neg.shape - freq_pos[::-1]',freq_neg.shape)\n",
    "syn_taper = np.append(freq_pos, freq_neg)\n",
    "print('syn_taper.shape - append',syn_taper.shape)\n",
    "syn_taper\n",
    "# Plot the filter\n",
    "freqs = fftfreq(nfftNewsyn, d=dfNew_padResyn)\n",
    "#freqs = fftfreq(nfft, d=0.000000003)\n",
    "\n",
    "#plt.plot(freqs[0:120]/1e3,freq_pos[0:120])\n",
    "plt.plot(xf_Newobs[freq_step_starNewsyn-1:freq_step_endNewsyn-1]/1e3,freq_pos[freq_step_starNewsyn-1:freq_step_endNewsyn-1])\n",
    "plt.title('Tukey Window Taper Applied')\n",
    "plt.xlabel('Frequency (kHz)')\n",
    "plt.ylabel('Gain')"
   ]
  },
  {
   "cell_type": "code",
   "execution_count": null,
   "metadata": {},
   "outputs": [],
   "source": [
    "xf_Newobs.shape"
   ]
  },
  {
   "cell_type": "code",
   "execution_count": null,
   "metadata": {},
   "outputs": [],
   "source": [
    "freq_pos[1-1:1600-1]"
   ]
  },
  {
   "cell_type": "code",
   "execution_count": null,
   "metadata": {},
   "outputs": [],
   "source": [
    "dfNew_padResyn"
   ]
  },
  {
   "cell_type": "code",
   "execution_count": null,
   "metadata": {},
   "outputs": [],
   "source": [
    "# Now we change into the frequency domain\n",
    "\n",
    "yf_NewNormobs = yf_Newobs/(max(yf_Newobs))\n",
    "yf_NewNormsyn = yf_Newsyn/(max(yf_Newsyn))\n",
    "\n",
    "#yf_obs_maxnormed = yf_obs/max(yf_obs)\n",
    "\n",
    "# normalized received signals in the frequency domain, for plotting purposes\n",
    "yf_Newsyn_filteredsyn = yf_Newsyn*syn_taper\n",
    "yf_Newsyn_filteredNormsyn = yf_Newsyn_filteredsyn/max(yf_Newsyn_filteredsyn)\n",
    "\n",
    "yf_Newsyn_filteredobs = yf_Newobs*syn_taper\n",
    "yf_Newsyn_filteredNormobs = yf_Newsyn_filteredobs/max(yf_Newsyn_filteredobs)\n",
    "\n",
    "\n",
    "# Plot the spectrums\n",
    "#plt.plot(freqs,syn_taper)\n",
    "#plt.plot(freqs,np.abs(yf_syn_maxnormed),color=\"black\")\n",
    "#plt.plot(freqs,np.abs(yf_stf_obs_maxnormed),color=\"red\")\n",
    "plt.plot(xf_Newobs[freq_step_starNewsyn-1:freq_step_endNewsyn-1]/1e3,syn_taper[freq_step_starNewsyn-1:freq_step_endNewsyn-1])\n",
    "plt.plot(xf_Newsyn[freq_step_starNewsyn-1:freq_step_endNewsyn-1]/1e3,np.abs(yf_Newsyn_filteredNormsyn[freq_step_starNewsyn-1:freq_step_endNewsyn-1]),color=\"black\")\n",
    "plt.plot(xf_Newobs[freq_step_starNewsyn-1:freq_step_endNewsyn-1]/1e3,np.abs(yf_Newsyn_filteredNormobs[freq_step_starNewsyn-1:freq_step_endNewsyn-1]),color=\"red\")\n",
    "\n",
    "#plt.plot(xf_Newsyn[freq_step_star-1:freq_step_end-1]/1e3,syn_taper[freq_step_star-1:freq_step_end-1])\n",
    "#plt.plot(xf[freq_step_star-1:freq_step_end-1]/1e3,np.abs(yf_obs_maxnormed[freq_step_star-1:freq_step_end-1]),color=\"black\")\n",
    "#plt.plot(xf[freq_step_star-1:freq_step_end-1]/1e3,np.abs(yf_syn_filtered_maxnormed[freq_step_star-1:freq_step_end-1]),color=\"red\")\n",
    "\n",
    "plt.legend(['Filter for G', 'Obs Data', \"Green's Function - filtered syn signal \"])"
   ]
  },
  {
   "cell_type": "code",
   "execution_count": null,
   "metadata": {},
   "outputs": [],
   "source": [
    "# Now we invert for the source in the frequency domain (obs as gaussian for Greens'function )\n",
    "yf_stf_inverted = np.array([0.0+0.0j])\n",
    "for i in range(1, nfftNewsyn):\n",
    "    if np.abs(yf_Newsyn_filteredsyn[i]) != 0:\n",
    "        #yf_stf_inverted = np.append(yf_stf_inverted, (yf_Newsyn_filteredNormsyn[i].T*yf_Newobs[i].conj().T)/(yf_Newsyn_filteredNormsyn[i].T*yf_Newsyn_filteredNormsyn[i].conj().T))\n",
    "        yf_stf_inverted = np.append(yf_stf_inverted, (yf_Newsyn_filteredsyn[i].T*yf_Newobs[i].conj().T)/(yf_Newsyn_filteredsyn[i].T*yf_Newsyn_filteredsyn[i].conj().T))\n",
    "    else:\n",
    "        yf_stf_inverted = np.append(yf_stf_inverted, 0.0+0.0j)\n",
    "yf_stf_inverted = yf_stf_inverted.conj().T\n",
    "#yf_stf_inverted = fft(stf_inverted[0:Nt], axis=0, n=nfft)\n",
    "stf_inverted=ifft(yf_stf_inverted,n=nfftNewsyn)\n"
   ]
  },
  {
   "cell_type": "code",
   "execution_count": null,
   "metadata": {},
   "outputs": [],
   "source": []
  },
  {
   "cell_type": "markdown",
   "metadata": {},
   "source": [
    "### 2.1 post processing the inverted stf"
   ]
  },
  {
   "cell_type": "code",
   "execution_count": null,
   "metadata": {},
   "outputs": [],
   "source": [
    "# filtering \n",
    "freqmin=30000\n",
    "freqmax=5000000\n",
    "\n",
    "#traceNew_detrendobs = np.copy(signal.detrend(traceNew_obs))\n",
    "#yf_traceNew_detrendobs = fft(traceNew_detrendobs, axis=0, n=nfftNewobs)\n",
    "stf_inverted_detrend_filtered = bandpass(stf_inverted_detrend, freqmin, freqmax, fsNewobs, zerophase=True)\n",
    "yf_stf_inverted_detrend_filtered = fft(stf_inverted_detrend_filtered, axis=0, n=nfftNewobs) \n",
    "\n",
    "\n",
    "# stf_inverted_shifted_filtered = bandpass(stf_inverted_shifted, freqmin, freqmax, fs_new, zerophase=True)\n",
    "# yf_stf_inverted_shifted_filtered = fft(stf_inverted_shifted_filtered, axis=0, n=nfft)\n"
   ]
  },
  {
   "cell_type": "code",
   "execution_count": null,
   "metadata": {},
   "outputs": [],
   "source": []
  },
  {
   "cell_type": "code",
   "execution_count": null,
   "metadata": {},
   "outputs": [],
   "source": [
    "# sff - source frequency function \n",
    "fig, (ax0,ax1,ax2,ax3) = plt.subplots(nrows=4)\n",
    "\n",
    "ax0.plot(t_totalNew_obs[t_starNew_showobs:t_endNew_showobs],stf_inverted[t_starNew_showobs:t_endNew_showobs],'m-')\n",
    "ax0.set_title('Inverted stf - ' + str(obs_name) + ' trace ' + str(trace_num))\n",
    "ax0.set_xlabel('time (s)')\n",
    "\n",
    "ax1.plot(xf_Newobs[freq_step_starNewsyn-1:freq_step_endNewsyn-1]/1000,np.abs(yf_stf_inverted[freq_step_starNewsyn-1:freq_step_endNewsyn-1]),'-m')\n",
    "ax1.set_title( 'Inverted sff ')\n",
    "ax1.set_xlabel('frequency (kHz)')\n",
    "\n",
    "ax2.plot(t_totalNew_obs[t_starNew_showobs:t_endNew_showobs],stf_inverted_detrend_filtered[t_starNew_showobs:t_endNew_showobs],'r-')\n",
    "ax2.set_title('Inverted detrend filtered stf - ' + str(obs_name) + ' trace ' + str(trace_num))\n",
    "ax2.set_xlabel('time (s)')\n",
    "\n",
    "ax3.plot(xf_Newobs[freq_step_starNewsyn-1:freq_step_endNewsyn-1]/1000,np.abs(yf_stf_inverted_detrend_filtered[freq_step_starNewsyn-1:freq_step_endNewsyn-1]),'-r')\n",
    "ax3.set_title( 'Inverted detrend filtered sff')\n",
    "ax3.set_xlabel('frequency (kHz)')\n",
    "\n",
    "#ax1.plot(xf[freq_step_star-1:freq_step_end-1]/1000,np.abs(yf_stf_obs[freq_step_star-1:freq_step_end-1]),'-k')\n",
    "#ax1.set_title( 'observed - gaussian, stf, absolute_value - zoom in')\n",
    "#ax1.set_xlabel('frequency (kHz)')\n",
    "\n",
    "plt.tight_layout(rect=[0, 0, 2, 2])\n",
    "\n",
    "fig.show()"
   ]
  },
  {
   "cell_type": "code",
   "execution_count": null,
   "metadata": {},
   "outputs": [],
   "source": []
  },
  {
   "cell_type": "code",
   "execution_count": null,
   "metadata": {},
   "outputs": [],
   "source": []
  },
  {
   "cell_type": "code",
   "execution_count": null,
   "metadata": {},
   "outputs": [],
   "source": []
  },
  {
   "cell_type": "code",
   "execution_count": null,
   "metadata": {},
   "outputs": [],
   "source": []
  }
 ],
 "metadata": {
  "kernelspec": {
   "display_name": "Python 2",
   "language": "python",
   "name": "python2"
  },
  "language_info": {
   "codemirror_mode": {
    "name": "ipython",
    "version": 2
   },
   "file_extension": ".py",
   "mimetype": "text/x-python",
   "name": "python",
   "nbconvert_exporter": "python",
   "pygments_lexer": "ipython2",
   "version": "2.7.5"
  }
 },
 "nbformat": 4,
 "nbformat_minor": 2
}
